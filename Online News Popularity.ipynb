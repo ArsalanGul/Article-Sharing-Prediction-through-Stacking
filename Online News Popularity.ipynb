{
 "cells": [
  {
   "cell_type": "code",
   "execution_count": 1,
   "metadata": {},
   "outputs": [],
   "source": [
    "import numpy as np\n",
    "import pandas as pd\n",
    "import matplotlib.pyplot as plt\n",
    "%matplotlib inline\n",
    "import seaborn as sns\n",
    "sns.set()"
   ]
  },
  {
   "cell_type": "code",
   "execution_count": 2,
   "metadata": {},
   "outputs": [
    {
     "data": {
      "text/html": [
       "<div>\n",
       "<style scoped>\n",
       "    .dataframe tbody tr th:only-of-type {\n",
       "        vertical-align: middle;\n",
       "    }\n",
       "\n",
       "    .dataframe tbody tr th {\n",
       "        vertical-align: top;\n",
       "    }\n",
       "\n",
       "    .dataframe thead th {\n",
       "        text-align: right;\n",
       "    }\n",
       "</style>\n",
       "<table border=\"1\" class=\"dataframe\">\n",
       "  <thead>\n",
       "    <tr style=\"text-align: right;\">\n",
       "      <th></th>\n",
       "      <th>url</th>\n",
       "      <th>timedelta</th>\n",
       "      <th>n_tokens_title</th>\n",
       "      <th>n_tokens_content</th>\n",
       "      <th>n_unique_tokens</th>\n",
       "      <th>n_non_stop_words</th>\n",
       "      <th>n_non_stop_unique_tokens</th>\n",
       "      <th>num_hrefs</th>\n",
       "      <th>num_self_hrefs</th>\n",
       "      <th>num_imgs</th>\n",
       "      <th>...</th>\n",
       "      <th>min_positive_polarity</th>\n",
       "      <th>max_positive_polarity</th>\n",
       "      <th>avg_negative_polarity</th>\n",
       "      <th>min_negative_polarity</th>\n",
       "      <th>max_negative_polarity</th>\n",
       "      <th>title_subjectivity</th>\n",
       "      <th>title_sentiment_polarity</th>\n",
       "      <th>abs_title_subjectivity</th>\n",
       "      <th>abs_title_sentiment_polarity</th>\n",
       "      <th>shares</th>\n",
       "    </tr>\n",
       "  </thead>\n",
       "  <tbody>\n",
       "    <tr>\n",
       "      <th>0</th>\n",
       "      <td>http://mashable.com/2013/01/07/amazon-instant-...</td>\n",
       "      <td>731.0</td>\n",
       "      <td>12.0</td>\n",
       "      <td>219.0</td>\n",
       "      <td>0.663594</td>\n",
       "      <td>1.0</td>\n",
       "      <td>0.815385</td>\n",
       "      <td>4.0</td>\n",
       "      <td>2.0</td>\n",
       "      <td>1.0</td>\n",
       "      <td>...</td>\n",
       "      <td>0.100000</td>\n",
       "      <td>0.7</td>\n",
       "      <td>-0.350000</td>\n",
       "      <td>-0.600</td>\n",
       "      <td>-0.200000</td>\n",
       "      <td>0.500000</td>\n",
       "      <td>-0.187500</td>\n",
       "      <td>0.000000</td>\n",
       "      <td>0.187500</td>\n",
       "      <td>593</td>\n",
       "    </tr>\n",
       "    <tr>\n",
       "      <th>1</th>\n",
       "      <td>http://mashable.com/2013/01/07/ap-samsung-spon...</td>\n",
       "      <td>731.0</td>\n",
       "      <td>9.0</td>\n",
       "      <td>255.0</td>\n",
       "      <td>0.604743</td>\n",
       "      <td>1.0</td>\n",
       "      <td>0.791946</td>\n",
       "      <td>3.0</td>\n",
       "      <td>1.0</td>\n",
       "      <td>1.0</td>\n",
       "      <td>...</td>\n",
       "      <td>0.033333</td>\n",
       "      <td>0.7</td>\n",
       "      <td>-0.118750</td>\n",
       "      <td>-0.125</td>\n",
       "      <td>-0.100000</td>\n",
       "      <td>0.000000</td>\n",
       "      <td>0.000000</td>\n",
       "      <td>0.500000</td>\n",
       "      <td>0.000000</td>\n",
       "      <td>711</td>\n",
       "    </tr>\n",
       "    <tr>\n",
       "      <th>2</th>\n",
       "      <td>http://mashable.com/2013/01/07/apple-40-billio...</td>\n",
       "      <td>731.0</td>\n",
       "      <td>9.0</td>\n",
       "      <td>211.0</td>\n",
       "      <td>0.575130</td>\n",
       "      <td>1.0</td>\n",
       "      <td>0.663866</td>\n",
       "      <td>3.0</td>\n",
       "      <td>1.0</td>\n",
       "      <td>1.0</td>\n",
       "      <td>...</td>\n",
       "      <td>0.100000</td>\n",
       "      <td>1.0</td>\n",
       "      <td>-0.466667</td>\n",
       "      <td>-0.800</td>\n",
       "      <td>-0.133333</td>\n",
       "      <td>0.000000</td>\n",
       "      <td>0.000000</td>\n",
       "      <td>0.500000</td>\n",
       "      <td>0.000000</td>\n",
       "      <td>1500</td>\n",
       "    </tr>\n",
       "    <tr>\n",
       "      <th>3</th>\n",
       "      <td>http://mashable.com/2013/01/07/astronaut-notre...</td>\n",
       "      <td>731.0</td>\n",
       "      <td>9.0</td>\n",
       "      <td>531.0</td>\n",
       "      <td>0.503788</td>\n",
       "      <td>1.0</td>\n",
       "      <td>0.665635</td>\n",
       "      <td>9.0</td>\n",
       "      <td>0.0</td>\n",
       "      <td>1.0</td>\n",
       "      <td>...</td>\n",
       "      <td>0.136364</td>\n",
       "      <td>0.8</td>\n",
       "      <td>-0.369697</td>\n",
       "      <td>-0.600</td>\n",
       "      <td>-0.166667</td>\n",
       "      <td>0.000000</td>\n",
       "      <td>0.000000</td>\n",
       "      <td>0.500000</td>\n",
       "      <td>0.000000</td>\n",
       "      <td>1200</td>\n",
       "    </tr>\n",
       "    <tr>\n",
       "      <th>4</th>\n",
       "      <td>http://mashable.com/2013/01/07/att-u-verse-apps/</td>\n",
       "      <td>731.0</td>\n",
       "      <td>13.0</td>\n",
       "      <td>1072.0</td>\n",
       "      <td>0.415646</td>\n",
       "      <td>1.0</td>\n",
       "      <td>0.540890</td>\n",
       "      <td>19.0</td>\n",
       "      <td>19.0</td>\n",
       "      <td>20.0</td>\n",
       "      <td>...</td>\n",
       "      <td>0.033333</td>\n",
       "      <td>1.0</td>\n",
       "      <td>-0.220192</td>\n",
       "      <td>-0.500</td>\n",
       "      <td>-0.050000</td>\n",
       "      <td>0.454545</td>\n",
       "      <td>0.136364</td>\n",
       "      <td>0.045455</td>\n",
       "      <td>0.136364</td>\n",
       "      <td>505</td>\n",
       "    </tr>\n",
       "  </tbody>\n",
       "</table>\n",
       "<p>5 rows × 61 columns</p>\n",
       "</div>"
      ],
      "text/plain": [
       "                                                 url   timedelta  \\\n",
       "0  http://mashable.com/2013/01/07/amazon-instant-...       731.0   \n",
       "1  http://mashable.com/2013/01/07/ap-samsung-spon...       731.0   \n",
       "2  http://mashable.com/2013/01/07/apple-40-billio...       731.0   \n",
       "3  http://mashable.com/2013/01/07/astronaut-notre...       731.0   \n",
       "4   http://mashable.com/2013/01/07/att-u-verse-apps/       731.0   \n",
       "\n",
       "    n_tokens_title   n_tokens_content   n_unique_tokens   n_non_stop_words  \\\n",
       "0             12.0              219.0          0.663594                1.0   \n",
       "1              9.0              255.0          0.604743                1.0   \n",
       "2              9.0              211.0          0.575130                1.0   \n",
       "3              9.0              531.0          0.503788                1.0   \n",
       "4             13.0             1072.0          0.415646                1.0   \n",
       "\n",
       "    n_non_stop_unique_tokens   num_hrefs   num_self_hrefs   num_imgs  ...  \\\n",
       "0                   0.815385         4.0              2.0        1.0  ...   \n",
       "1                   0.791946         3.0              1.0        1.0  ...   \n",
       "2                   0.663866         3.0              1.0        1.0  ...   \n",
       "3                   0.665635         9.0              0.0        1.0  ...   \n",
       "4                   0.540890        19.0             19.0       20.0  ...   \n",
       "\n",
       "    min_positive_polarity   max_positive_polarity   avg_negative_polarity  \\\n",
       "0                0.100000                     0.7               -0.350000   \n",
       "1                0.033333                     0.7               -0.118750   \n",
       "2                0.100000                     1.0               -0.466667   \n",
       "3                0.136364                     0.8               -0.369697   \n",
       "4                0.033333                     1.0               -0.220192   \n",
       "\n",
       "    min_negative_polarity   max_negative_polarity   title_subjectivity  \\\n",
       "0                  -0.600               -0.200000             0.500000   \n",
       "1                  -0.125               -0.100000             0.000000   \n",
       "2                  -0.800               -0.133333             0.000000   \n",
       "3                  -0.600               -0.166667             0.000000   \n",
       "4                  -0.500               -0.050000             0.454545   \n",
       "\n",
       "    title_sentiment_polarity   abs_title_subjectivity  \\\n",
       "0                  -0.187500                 0.000000   \n",
       "1                   0.000000                 0.500000   \n",
       "2                   0.000000                 0.500000   \n",
       "3                   0.000000                 0.500000   \n",
       "4                   0.136364                 0.045455   \n",
       "\n",
       "    abs_title_sentiment_polarity   shares  \n",
       "0                       0.187500      593  \n",
       "1                       0.000000      711  \n",
       "2                       0.000000     1500  \n",
       "3                       0.000000     1200  \n",
       "4                       0.136364      505  \n",
       "\n",
       "[5 rows x 61 columns]"
      ]
     },
     "execution_count": 2,
     "metadata": {},
     "output_type": "execute_result"
    }
   ],
   "source": [
    "data= pd.read_csv('OnlineNewsPopularity.csv')\n",
    "data.head()"
   ]
  },
  {
   "cell_type": "markdown",
   "metadata": {},
   "source": [
    "### 1. Expolatory Data Analysis (EDA)"
   ]
  },
  {
   "cell_type": "code",
   "execution_count": 3,
   "metadata": {},
   "outputs": [
    {
     "data": {
      "text/plain": [
       "'http://mashable.com/2013/02/10/wedding-proposal-videos/'"
      ]
     },
     "execution_count": 3,
     "metadata": {},
     "output_type": "execute_result"
    }
   ],
   "source": [
    "data['url'][2000]"
   ]
  },
  {
   "cell_type": "code",
   "execution_count": 4,
   "metadata": {},
   "outputs": [],
   "source": [
    "import nltk\n",
    "import re\n",
    "import string\n",
    "from datetime import datetime"
   ]
  },
  {
   "cell_type": "code",
   "execution_count": 5,
   "metadata": {},
   "outputs": [],
   "source": [
    "date=[]\n",
    "date_original=[]\n",
    "\n",
    "for i in range(data.shape[0]):\n",
    "    x=re.findall(r'[0-9]{4}/[0-9]{2}/[0-9]{2}',data['url'][i])\n",
    "    date.append(x)\n",
    "    \n",
    "for i in date:\n",
    "    for r in i:\n",
    "        date_original.append(r)"
   ]
  },
  {
   "cell_type": "code",
   "execution_count": 6,
   "metadata": {},
   "outputs": [],
   "source": [
    "data['date']=date_original"
   ]
  },
  {
   "cell_type": "code",
   "execution_count": 7,
   "metadata": {},
   "outputs": [],
   "source": [
    "data['date']= pd.to_datetime(data['date'])"
   ]
  },
  {
   "cell_type": "code",
   "execution_count": 8,
   "metadata": {},
   "outputs": [
    {
     "name": "stderr",
     "output_type": "stream",
     "text": [
      "C:\\Users\\ACER M5\\Anaconda3\\lib\\site-packages\\pandas\\plotting\\_converter.py:129: FutureWarning: Using an implicitly registered datetime converter for a matplotlib plotting method. The converter was registered by pandas on import. Future versions of pandas will require you to explicitly register matplotlib converters.\n",
      "\n",
      "To register the converters:\n",
      "\t>>> from pandas.plotting import register_matplotlib_converters\n",
      "\t>>> register_matplotlib_converters()\n",
      "  warnings.warn(msg, FutureWarning)\n"
     ]
    },
    {
     "data": {
      "image/png": "[encoded data removed]",
      "text/plain": [
       "<Figure size 720x720 with 1 Axes>"
      ]
     },
     "metadata": {
      "needs_background": "light"
     },
     "output_type": "display_data"
    }
   ],
   "source": [
    "fig=plt.figure(figsize=(10,10))\n",
    "ax=fig.gca()\n",
    "plt.plot(data['date'],data[' shares'])\n",
    "plt.show()"
   ]
  },
  {
   "cell_type": "code",
   "execution_count": 17,
   "metadata": {},
   "outputs": [
    {
     "data": {
      "text/plain": [
       "0"
      ]
     },
     "execution_count": 17,
     "metadata": {},
     "output_type": "execute_result"
    }
   ],
   "source": [
    "data['date'][5].dayofweek"
   ]
  },
  {
   "cell_type": "code",
   "execution_count": 9,
   "metadata": {},
   "outputs": [
    {
     "data": {
      "text/html": [
       "<div>\n",
       "<style scoped>\n",
       "    .dataframe tbody tr th:only-of-type {\n",
       "        vertical-align: middle;\n",
       "    }\n",
       "\n",
       "    .dataframe tbody tr th {\n",
       "        vertical-align: top;\n",
       "    }\n",
       "\n",
       "    .dataframe thead th {\n",
       "        text-align: right;\n",
       "    }\n",
       "</style>\n",
       "<table border=\"1\" class=\"dataframe\">\n",
       "  <thead>\n",
       "    <tr style=\"text-align: right;\">\n",
       "      <th></th>\n",
       "      <th>timedelta</th>\n",
       "      <th>n_tokens_title</th>\n",
       "      <th>n_tokens_content</th>\n",
       "      <th>n_unique_tokens</th>\n",
       "      <th>n_non_stop_words</th>\n",
       "      <th>n_non_stop_unique_tokens</th>\n",
       "      <th>num_hrefs</th>\n",
       "      <th>num_self_hrefs</th>\n",
       "      <th>num_imgs</th>\n",
       "      <th>num_videos</th>\n",
       "      <th>...</th>\n",
       "      <th>min_positive_polarity</th>\n",
       "      <th>max_positive_polarity</th>\n",
       "      <th>avg_negative_polarity</th>\n",
       "      <th>min_negative_polarity</th>\n",
       "      <th>max_negative_polarity</th>\n",
       "      <th>title_subjectivity</th>\n",
       "      <th>title_sentiment_polarity</th>\n",
       "      <th>abs_title_subjectivity</th>\n",
       "      <th>abs_title_sentiment_polarity</th>\n",
       "      <th>shares</th>\n",
       "    </tr>\n",
       "  </thead>\n",
       "  <tbody>\n",
       "    <tr>\n",
       "      <th>count</th>\n",
       "      <td>39644.000000</td>\n",
       "      <td>39644.000000</td>\n",
       "      <td>39644.000000</td>\n",
       "      <td>39644.000000</td>\n",
       "      <td>39644.000000</td>\n",
       "      <td>39644.000000</td>\n",
       "      <td>39644.000000</td>\n",
       "      <td>39644.000000</td>\n",
       "      <td>39644.000000</td>\n",
       "      <td>39644.000000</td>\n",
       "      <td>...</td>\n",
       "      <td>39644.000000</td>\n",
       "      <td>39644.000000</td>\n",
       "      <td>39644.000000</td>\n",
       "      <td>39644.000000</td>\n",
       "      <td>39644.000000</td>\n",
       "      <td>39644.000000</td>\n",
       "      <td>39644.000000</td>\n",
       "      <td>39644.000000</td>\n",
       "      <td>39644.000000</td>\n",
       "      <td>39644.000000</td>\n",
       "    </tr>\n",
       "    <tr>\n",
       "      <th>mean</th>\n",
       "      <td>354.530471</td>\n",
       "      <td>10.398749</td>\n",
       "      <td>546.514731</td>\n",
       "      <td>0.548216</td>\n",
       "      <td>0.996469</td>\n",
       "      <td>0.689175</td>\n",
       "      <td>10.883690</td>\n",
       "      <td>3.293638</td>\n",
       "      <td>4.544143</td>\n",
       "      <td>1.249874</td>\n",
       "      <td>...</td>\n",
       "      <td>0.095446</td>\n",
       "      <td>0.756728</td>\n",
       "      <td>-0.259524</td>\n",
       "      <td>-0.521944</td>\n",
       "      <td>-0.107500</td>\n",
       "      <td>0.282353</td>\n",
       "      <td>0.071425</td>\n",
       "      <td>0.341843</td>\n",
       "      <td>0.156064</td>\n",
       "      <td>3395.380184</td>\n",
       "    </tr>\n",
       "    <tr>\n",
       "      <th>std</th>\n",
       "      <td>214.163767</td>\n",
       "      <td>2.114037</td>\n",
       "      <td>471.107508</td>\n",
       "      <td>3.520708</td>\n",
       "      <td>5.231231</td>\n",
       "      <td>3.264816</td>\n",
       "      <td>11.332017</td>\n",
       "      <td>3.855141</td>\n",
       "      <td>8.309434</td>\n",
       "      <td>4.107855</td>\n",
       "      <td>...</td>\n",
       "      <td>0.071315</td>\n",
       "      <td>0.247786</td>\n",
       "      <td>0.127726</td>\n",
       "      <td>0.290290</td>\n",
       "      <td>0.095373</td>\n",
       "      <td>0.324247</td>\n",
       "      <td>0.265450</td>\n",
       "      <td>0.188791</td>\n",
       "      <td>0.226294</td>\n",
       "      <td>11626.950749</td>\n",
       "    </tr>\n",
       "    <tr>\n",
       "      <th>min</th>\n",
       "      <td>8.000000</td>\n",
       "      <td>2.000000</td>\n",
       "      <td>0.000000</td>\n",
       "      <td>0.000000</td>\n",
       "      <td>0.000000</td>\n",
       "      <td>0.000000</td>\n",
       "      <td>0.000000</td>\n",
       "      <td>0.000000</td>\n",
       "      <td>0.000000</td>\n",
       "      <td>0.000000</td>\n",
       "      <td>...</td>\n",
       "      <td>0.000000</td>\n",
       "      <td>0.000000</td>\n",
       "      <td>-1.000000</td>\n",
       "      <td>-1.000000</td>\n",
       "      <td>-1.000000</td>\n",
       "      <td>0.000000</td>\n",
       "      <td>-1.000000</td>\n",
       "      <td>0.000000</td>\n",
       "      <td>0.000000</td>\n",
       "      <td>1.000000</td>\n",
       "    </tr>\n",
       "    <tr>\n",
       "      <th>25%</th>\n",
       "      <td>164.000000</td>\n",
       "      <td>9.000000</td>\n",
       "      <td>246.000000</td>\n",
       "      <td>0.470870</td>\n",
       "      <td>1.000000</td>\n",
       "      <td>0.625739</td>\n",
       "      <td>4.000000</td>\n",
       "      <td>1.000000</td>\n",
       "      <td>1.000000</td>\n",
       "      <td>0.000000</td>\n",
       "      <td>...</td>\n",
       "      <td>0.050000</td>\n",
       "      <td>0.600000</td>\n",
       "      <td>-0.328383</td>\n",
       "      <td>-0.700000</td>\n",
       "      <td>-0.125000</td>\n",
       "      <td>0.000000</td>\n",
       "      <td>0.000000</td>\n",
       "      <td>0.166667</td>\n",
       "      <td>0.000000</td>\n",
       "      <td>946.000000</td>\n",
       "    </tr>\n",
       "    <tr>\n",
       "      <th>50%</th>\n",
       "      <td>339.000000</td>\n",
       "      <td>10.000000</td>\n",
       "      <td>409.000000</td>\n",
       "      <td>0.539226</td>\n",
       "      <td>1.000000</td>\n",
       "      <td>0.690476</td>\n",
       "      <td>8.000000</td>\n",
       "      <td>3.000000</td>\n",
       "      <td>1.000000</td>\n",
       "      <td>0.000000</td>\n",
       "      <td>...</td>\n",
       "      <td>0.100000</td>\n",
       "      <td>0.800000</td>\n",
       "      <td>-0.253333</td>\n",
       "      <td>-0.500000</td>\n",
       "      <td>-0.100000</td>\n",
       "      <td>0.150000</td>\n",
       "      <td>0.000000</td>\n",
       "      <td>0.500000</td>\n",
       "      <td>0.000000</td>\n",
       "      <td>1400.000000</td>\n",
       "    </tr>\n",
       "    <tr>\n",
       "      <th>75%</th>\n",
       "      <td>542.000000</td>\n",
       "      <td>12.000000</td>\n",
       "      <td>716.000000</td>\n",
       "      <td>0.608696</td>\n",
       "      <td>1.000000</td>\n",
       "      <td>0.754630</td>\n",
       "      <td>14.000000</td>\n",
       "      <td>4.000000</td>\n",
       "      <td>4.000000</td>\n",
       "      <td>1.000000</td>\n",
       "      <td>...</td>\n",
       "      <td>0.100000</td>\n",
       "      <td>1.000000</td>\n",
       "      <td>-0.186905</td>\n",
       "      <td>-0.300000</td>\n",
       "      <td>-0.050000</td>\n",
       "      <td>0.500000</td>\n",
       "      <td>0.150000</td>\n",
       "      <td>0.500000</td>\n",
       "      <td>0.250000</td>\n",
       "      <td>2800.000000</td>\n",
       "    </tr>\n",
       "    <tr>\n",
       "      <th>max</th>\n",
       "      <td>731.000000</td>\n",
       "      <td>23.000000</td>\n",
       "      <td>8474.000000</td>\n",
       "      <td>701.000000</td>\n",
       "      <td>1042.000000</td>\n",
       "      <td>650.000000</td>\n",
       "      <td>304.000000</td>\n",
       "      <td>116.000000</td>\n",
       "      <td>128.000000</td>\n",
       "      <td>91.000000</td>\n",
       "      <td>...</td>\n",
       "      <td>1.000000</td>\n",
       "      <td>1.000000</td>\n",
       "      <td>0.000000</td>\n",
       "      <td>0.000000</td>\n",
       "      <td>0.000000</td>\n",
       "      <td>1.000000</td>\n",
       "      <td>1.000000</td>\n",
       "      <td>0.500000</td>\n",
       "      <td>1.000000</td>\n",
       "      <td>843300.000000</td>\n",
       "    </tr>\n",
       "  </tbody>\n",
       "</table>\n",
       "<p>8 rows × 60 columns</p>\n",
       "</div>"
      ],
      "text/plain": [
       "          timedelta   n_tokens_title   n_tokens_content   n_unique_tokens  \\\n",
       "count  39644.000000     39644.000000       39644.000000      39644.000000   \n",
       "mean     354.530471        10.398749         546.514731          0.548216   \n",
       "std      214.163767         2.114037         471.107508          3.520708   \n",
       "min        8.000000         2.000000           0.000000          0.000000   \n",
       "25%      164.000000         9.000000         246.000000          0.470870   \n",
       "50%      339.000000        10.000000         409.000000          0.539226   \n",
       "75%      542.000000        12.000000         716.000000          0.608696   \n",
       "max      731.000000        23.000000        8474.000000        701.000000   \n",
       "\n",
       "        n_non_stop_words   n_non_stop_unique_tokens     num_hrefs  \\\n",
       "count       39644.000000               39644.000000  39644.000000   \n",
       "mean            0.996469                   0.689175     10.883690   \n",
       "std             5.231231                   3.264816     11.332017   \n",
       "min             0.000000                   0.000000      0.000000   \n",
       "25%             1.000000                   0.625739      4.000000   \n",
       "50%             1.000000                   0.690476      8.000000   \n",
       "75%             1.000000                   0.754630     14.000000   \n",
       "max          1042.000000                 650.000000    304.000000   \n",
       "\n",
       "        num_self_hrefs      num_imgs    num_videos  ...  \\\n",
       "count     39644.000000  39644.000000  39644.000000  ...   \n",
       "mean          3.293638      4.544143      1.249874  ...   \n",
       "std           3.855141      8.309434      4.107855  ...   \n",
       "min           0.000000      0.000000      0.000000  ...   \n",
       "25%           1.000000      1.000000      0.000000  ...   \n",
       "50%           3.000000      1.000000      0.000000  ...   \n",
       "75%           4.000000      4.000000      1.000000  ...   \n",
       "max         116.000000    128.000000     91.000000  ...   \n",
       "\n",
       "        min_positive_polarity   max_positive_polarity   avg_negative_polarity  \\\n",
       "count            39644.000000            39644.000000            39644.000000   \n",
       "mean                 0.095446                0.756728               -0.259524   \n",
       "std                  0.071315                0.247786                0.127726   \n",
       "min                  0.000000                0.000000               -1.000000   \n",
       "25%                  0.050000                0.600000               -0.328383   \n",
       "50%                  0.100000                0.800000               -0.253333   \n",
       "75%                  0.100000                1.000000               -0.186905   \n",
       "max                  1.000000                1.000000                0.000000   \n",
       "\n",
       "        min_negative_polarity   max_negative_polarity   title_subjectivity  \\\n",
       "count            39644.000000            39644.000000         39644.000000   \n",
       "mean                -0.521944               -0.107500             0.282353   \n",
       "std                  0.290290                0.095373             0.324247   \n",
       "min                 -1.000000               -1.000000             0.000000   \n",
       "25%                 -0.700000               -0.125000             0.000000   \n",
       "50%                 -0.500000               -0.100000             0.150000   \n",
       "75%                 -0.300000               -0.050000             0.500000   \n",
       "max                  0.000000                0.000000             1.000000   \n",
       "\n",
       "        title_sentiment_polarity   abs_title_subjectivity  \\\n",
       "count               39644.000000             39644.000000   \n",
       "mean                    0.071425                 0.341843   \n",
       "std                     0.265450                 0.188791   \n",
       "min                    -1.000000                 0.000000   \n",
       "25%                     0.000000                 0.166667   \n",
       "50%                     0.000000                 0.500000   \n",
       "75%                     0.150000                 0.500000   \n",
       "max                     1.000000                 0.500000   \n",
       "\n",
       "        abs_title_sentiment_polarity         shares  \n",
       "count                   39644.000000   39644.000000  \n",
       "mean                        0.156064    3395.380184  \n",
       "std                         0.226294   11626.950749  \n",
       "min                         0.000000       1.000000  \n",
       "25%                         0.000000     946.000000  \n",
       "50%                         0.000000    1400.000000  \n",
       "75%                         0.250000    2800.000000  \n",
       "max                         1.000000  843300.000000  \n",
       "\n",
       "[8 rows x 60 columns]"
      ]
     },
     "execution_count": 9,
     "metadata": {},
     "output_type": "execute_result"
    }
   ],
   "source": [
    "data.describe()"
   ]
  },
  {
   "cell_type": "code",
   "execution_count": 10,
   "metadata": {},
   "outputs": [
    {
     "name": "stdout",
     "output_type": "stream",
     "text": [
      "<class 'pandas.core.frame.DataFrame'>\n",
      "RangeIndex: 39644 entries, 0 to 39643\n",
      "Data columns (total 62 columns):\n",
      "url                               39644 non-null object\n",
      " timedelta                        39644 non-null float64\n",
      " n_tokens_title                   39644 non-null float64\n",
      " n_tokens_content                 39644 non-null float64\n",
      " n_unique_tokens                  39644 non-null float64\n",
      " n_non_stop_words                 39644 non-null float64\n",
      " n_non_stop_unique_tokens         39644 non-null float64\n",
      " num_hrefs                        39644 non-null float64\n",
      " num_self_hrefs                   39644 non-null float64\n",
      " num_imgs                         39644 non-null float64\n",
      " num_videos                       39644 non-null float64\n",
      " average_token_length             39644 non-null float64\n",
      " num_keywords                     39644 non-null float64\n",
      " data_channel_is_lifestyle        39644 non-null float64\n",
      " data_channel_is_entertainment    39644 non-null float64\n",
      " data_channel_is_bus              39644 non-null float64\n",
      " data_channel_is_socmed           39644 non-null float64\n",
      " data_channel_is_tech             39644 non-null float64\n",
      " data_channel_is_world            39644 non-null float64\n",
      " kw_min_min                       39644 non-null float64\n",
      " kw_max_min                       39644 non-null float64\n",
      " kw_avg_min                       39644 non-null float64\n",
      " kw_min_max                       39644 non-null float64\n",
      " kw_max_max                       39644 non-null float64\n",
      " kw_avg_max                       39644 non-null float64\n",
      " kw_min_avg                       39644 non-null float64\n",
      " kw_max_avg                       39644 non-null float64\n",
      " kw_avg_avg                       39644 non-null float64\n",
      " self_reference_min_shares        39644 non-null float64\n",
      " self_reference_max_shares        39644 non-null float64\n",
      " self_reference_avg_sharess       39644 non-null float64\n",
      " weekday_is_monday                39644 non-null float64\n",
      " weekday_is_tuesday               39644 non-null float64\n",
      " weekday_is_wednesday             39644 non-null float64\n",
      " weekday_is_thursday              39644 non-null float64\n",
      " weekday_is_friday                39644 non-null float64\n",
      " weekday_is_saturday              39644 non-null float64\n",
      " weekday_is_sunday                39644 non-null float64\n",
      " is_weekend                       39644 non-null float64\n",
      " LDA_00                           39644 non-null float64\n",
      " LDA_01                           39644 non-null float64\n",
      " LDA_02                           39644 non-null float64\n",
      " LDA_03                           39644 non-null float64\n",
      " LDA_04                           39644 non-null float64\n",
      " global_subjectivity              39644 non-null float64\n",
      " global_sentiment_polarity        39644 non-null float64\n",
      " global_rate_positive_words       39644 non-null float64\n",
      " global_rate_negative_words       39644 non-null float64\n",
      " rate_positive_words              39644 non-null float64\n",
      " rate_negative_words              39644 non-null float64\n",
      " avg_positive_polarity            39644 non-null float64\n",
      " min_positive_polarity            39644 non-null float64\n",
      " max_positive_polarity            39644 non-null float64\n",
      " avg_negative_polarity            39644 non-null float64\n",
      " min_negative_polarity            39644 non-null float64\n",
      " max_negative_polarity            39644 non-null float64\n",
      " title_subjectivity               39644 non-null float64\n",
      " title_sentiment_polarity         39644 non-null float64\n",
      " abs_title_subjectivity           39644 non-null float64\n",
      " abs_title_sentiment_polarity     39644 non-null float64\n",
      " shares                           39644 non-null int64\n",
      "date                              39644 non-null datetime64[ns]\n",
      "dtypes: datetime64[ns](1), float64(59), int64(1), object(1)\n",
      "memory usage: 18.8+ MB\n"
     ]
    }
   ],
   "source": [
    "data.info()"
   ]
  },
  {
   "cell_type": "code",
   "execution_count": 11,
   "metadata": {},
   "outputs": [
    {
     "data": {
      "text/plain": [
       "Index(['url', ' timedelta', ' n_tokens_title', ' n_tokens_content',\n",
       "       ' n_unique_tokens', ' n_non_stop_words', ' n_non_stop_unique_tokens',\n",
       "       ' num_hrefs', ' num_self_hrefs', ' num_imgs', ' num_videos',\n",
       "       ' average_token_length', ' num_keywords', ' data_channel_is_lifestyle',\n",
       "       ' data_channel_is_entertainment', ' data_channel_is_bus',\n",
       "       ' data_channel_is_socmed', ' data_channel_is_tech',\n",
       "       ' data_channel_is_world', ' kw_min_min', ' kw_max_min', ' kw_avg_min',\n",
       "       ' kw_min_max', ' kw_max_max', ' kw_avg_max', ' kw_min_avg',\n",
       "       ' kw_max_avg', ' kw_avg_avg', ' self_reference_min_shares',\n",
       "       ' self_reference_max_shares', ' self_reference_avg_sharess',\n",
       "       ' weekday_is_monday', ' weekday_is_tuesday', ' weekday_is_wednesday',\n",
       "       ' weekday_is_thursday', ' weekday_is_friday', ' weekday_is_saturday',\n",
       "       ' weekday_is_sunday', ' is_weekend', ' LDA_00', ' LDA_01', ' LDA_02',\n",
       "       ' LDA_03', ' LDA_04', ' global_subjectivity',\n",
       "       ' global_sentiment_polarity', ' global_rate_positive_words',\n",
       "       ' global_rate_negative_words', ' rate_positive_words',\n",
       "       ' rate_negative_words', ' avg_positive_polarity',\n",
       "       ' min_positive_polarity', ' max_positive_polarity',\n",
       "       ' avg_negative_polarity', ' min_negative_polarity',\n",
       "       ' max_negative_polarity', ' title_subjectivity',\n",
       "       ' title_sentiment_polarity', ' abs_title_subjectivity',\n",
       "       ' abs_title_sentiment_polarity', ' shares', 'date'],\n",
       "      dtype='object')"
      ]
     },
     "execution_count": 11,
     "metadata": {},
     "output_type": "execute_result"
    }
   ],
   "source": [
    "data.columns"
   ]
  },
  {
   "cell_type": "code",
   "execution_count": 12,
   "metadata": {},
   "outputs": [
    {
     "data": {
      "text/plain": [
       "<matplotlib.collections.PathCollection at 0x2323c7f1208>"
      ]
     },
     "execution_count": 12,
     "metadata": {},
     "output_type": "execute_result"
    },
    {
     "data": {
      "image/png": "[encoded data removed]",
      "text/plain": [
       "<Figure size 432x288 with 1 Axes>"
      ]
     },
     "metadata": {
      "needs_background": "light"
     },
     "output_type": "display_data"
    }
   ],
   "source": [
    "plt.scatter(data[' timedelta'],data[' shares'],c='r')\n"
   ]
  },
  {
   "cell_type": "markdown",
   "metadata": {},
   "source": [
    "### Observations:\n",
    "\n",
    "1) Time Delta (The days between the dataset compilation and article publishing) v Number of shares\n",
    "\n",
    "2) There are more outliers such as after 400 days more articles have been shared more than 20k times\n",
    "\n",
    "3) These outliers are not helping to check the exact distribution of data and are skewing the results"
   ]
  },
  {
   "cell_type": "code",
   "execution_count": 13,
   "metadata": {},
   "outputs": [
    {
     "data": {
      "text/plain": [
       "39644"
      ]
     },
     "execution_count": 13,
     "metadata": {},
     "output_type": "execute_result"
    }
   ],
   "source": [
    "data.shape[0]"
   ]
  },
  {
   "cell_type": "code",
   "execution_count": 14,
   "metadata": {},
   "outputs": [],
   "source": [
    "for i in range(data.shape[0]):\n",
    "    if data[' shares'][i] > 28000:\n",
    "        data.drop(index=i,inplace=True)\n",
    "        "
   ]
  },
  {
   "cell_type": "code",
   "execution_count": 15,
   "metadata": {},
   "outputs": [],
   "source": [
    "data=data.reset_index(drop=True)"
   ]
  },
  {
   "cell_type": "code",
   "execution_count": 16,
   "metadata": {},
   "outputs": [
    {
     "data": {
      "text/plain": [
       "<matplotlib.collections.PathCollection at 0x2323c86b710>"
      ]
     },
     "execution_count": 16,
     "metadata": {},
     "output_type": "execute_result"
    },
    {
     "data": {
      "image/png": "[encoded data removed]",
      "text/plain": [
       "<Figure size 432x288 with 1 Axes>"
      ]
     },
     "metadata": {
      "needs_background": "light"
     },
     "output_type": "display_data"
    }
   ],
   "source": [
    "plt.scatter(data[' timedelta'],data[' shares'],c='r')"
   ]
  },
  {
   "cell_type": "code",
   "execution_count": 17,
   "metadata": {},
   "outputs": [
    {
     "data": {
      "text/plain": [
       "<matplotlib.legend.Legend at 0x2323c8ca390>"
      ]
     },
     "execution_count": 17,
     "metadata": {},
     "output_type": "execute_result"
    },
    {
     "data": {
      "image/png": "[encoded data removed]",
      "text/plain": [
       "<Figure size 432x288 with 1 Axes>"
      ]
     },
     "metadata": {
      "needs_background": "light"
     },
     "output_type": "display_data"
    }
   ],
   "source": [
    "plt.plot(data[' num_imgs'],data[' shares'],'ro',label='Images')\n",
    "plt.plot(data[' num_videos'],data[' shares'],'b^',label='Videos')\n",
    "plt.legend()"
   ]
  },
  {
   "cell_type": "markdown",
   "metadata": {},
   "source": [
    "### This was for getting the relation between number of videos and images in an article with their corresponding shares.\n",
    "\n",
    "1) If number of videos and images exceeds 80 then shares come close to 0-5k.\n",
    "\n",
    "2) Most of the articles between 0-40 images and videos has been shared 0-20k times"
   ]
  },
  {
   "cell_type": "code",
   "execution_count": 18,
   "metadata": {},
   "outputs": [
    {
     "data": {
      "text/plain": [
       "<matplotlib.axes._subplots.AxesSubplot at 0x2323c899da0>"
      ]
     },
     "execution_count": 18,
     "metadata": {},
     "output_type": "execute_result"
    },
    {
     "data": {
      "image/png": "[encoded data removed]",
      "text/plain": [
       "<Figure size 432x288 with 1 Axes>"
      ]
     },
     "metadata": {
      "needs_background": "light"
     },
     "output_type": "display_data"
    }
   ],
   "source": [
    "sns.scatterplot(data[' n_tokens_title'],data[' shares'])"
   ]
  },
  {
   "cell_type": "code",
   "execution_count": 19,
   "metadata": {},
   "outputs": [
    {
     "data": {
      "text/plain": [
       "<matplotlib.axes._subplots.AxesSubplot at 0x2323c95d4e0>"
      ]
     },
     "execution_count": 19,
     "metadata": {},
     "output_type": "execute_result"
    },
    {
     "data": {
      "image/png": "[encoded data removed]",
      "text/plain": [
       "<Figure size 432x288 with 1 Axes>"
      ]
     },
     "metadata": {
      "needs_background": "light"
     },
     "output_type": "display_data"
    }
   ],
   "source": [
    "sns.scatterplot(data[' n_tokens_content'],data[' shares'])"
   ]
  },
  {
   "cell_type": "code",
   "execution_count": 20,
   "metadata": {},
   "outputs": [
    {
     "data": {
      "text/plain": [
       "<matplotlib.axes._subplots.AxesSubplot at 0x2323cc9e4a8>"
      ]
     },
     "execution_count": 20,
     "metadata": {},
     "output_type": "execute_result"
    },
    {
     "data": {
      "image/png": "[encoded data removed]",
      "text/plain": [
       "<Figure size 432x288 with 1 Axes>"
      ]
     },
     "metadata": {
      "needs_background": "light"
     },
     "output_type": "display_data"
    }
   ],
   "source": [
    "sns.kdeplot(data[' n_tokens_content'])\n",
    "sns.kdeplot(data[' shares'])"
   ]
  },
  {
   "cell_type": "markdown",
   "metadata": {},
   "source": [
    "## Observations:\n",
    "\n",
    "1) Too short and too long titles are not getting good response. Words between 5-18 are good.\n",
    "\n",
    "2) Total words between 0-20k are getting the higher response.Above 20k articles have not been shared more than 500 times.\n",
    "\n",
    "3) Both \"shares\" and \"n_number_tokens\" are right skewed.That means data is concentrated in lower half."
   ]
  },
  {
   "cell_type": "code",
   "execution_count": 21,
   "metadata": {},
   "outputs": [
    {
     "data": {
      "text/plain": [
       "<matplotlib.axes._subplots.AxesSubplot at 0x2323cb87080>"
      ]
     },
     "execution_count": 21,
     "metadata": {},
     "output_type": "execute_result"
    },
    {
     "data": {
      "image/png": "[encoded data removed]",
      "text/plain": [
       "<Figure size 720x720 with 1 Axes>"
      ]
     },
     "metadata": {
      "needs_background": "light"
     },
     "output_type": "display_data"
    }
   ],
   "source": [
    "from scipy.stats import norm\n",
    "fig= plt.figure(figsize=(10,10))\n",
    "ax=fig.gca()\n",
    "ax.set_title(\"The 'Sharing' distribution of whole dataset\")\n",
    "sns.distplot(data[' shares'],ax=ax, fit=norm)"
   ]
  },
  {
   "cell_type": "code",
   "execution_count": 22,
   "metadata": {},
   "outputs": [
    {
     "name": "stdout",
     "output_type": "stream",
     "text": [
      "Skew: 3.6009669969582965\n"
     ]
    }
   ],
   "source": [
    "print(\"Skew:\",data[' shares'].skew())"
   ]
  },
  {
   "cell_type": "markdown",
   "metadata": {},
   "source": [
    "A Positive Skew means that data is right skewed and it can be corrected with log or square root."
   ]
  },
  {
   "cell_type": "markdown",
   "metadata": {},
   "source": [
    "#### 1. it is positive skewed so more data in lower half.\n",
    "#### 2. We cannot use squared error term as it would highlight the higher terms with errors so would make results less interpretable.\n",
    "#### 3. We can power transform the target variable or leave it as it is."
   ]
  },
  {
   "cell_type": "code",
   "execution_count": 23,
   "metadata": {},
   "outputs": [],
   "source": [
    "##data[' shares']= np.log(data[' shares'])"
   ]
  },
  {
   "cell_type": "code",
   "execution_count": 24,
   "metadata": {},
   "outputs": [],
   "source": [
    "##fig= plt.figure(figsize=(10,10))\n",
    "##ax=fig.gca()\n",
    "##ax.set_title(\"The 'Sharing' distribution of whole dataset\")\n",
    "##sns.distplot(data[' shares'],ax=ax, fit=norm)\n",
    "##print(\"Skew:\",data[' shares'].skew())"
   ]
  },
  {
   "cell_type": "code",
   "execution_count": 25,
   "metadata": {},
   "outputs": [],
   "source": [
    "lifestyle_articles=data[data[' data_channel_is_lifestyle'] == 1][' shares'].sum()\n",
    "entertainment_articles=data[data[' data_channel_is_entertainment'] == 1][' shares'].sum()\n",
    "business_articles=data[data[' data_channel_is_bus'] == 1][' shares'].sum()\n",
    "socialmedia_articles=data[data[' data_channel_is_socmed'] == 1][' shares'].sum()\n",
    "technical_articles=data[data[' data_channel_is_tech'] == 1][' shares'].sum()\n",
    "world_articles=data[data[' data_channel_is_world'] == 1][' shares'].sum()"
   ]
  },
  {
   "cell_type": "code",
   "execution_count": 26,
   "metadata": {
    "scrolled": true
   },
   "outputs": [
    {
     "data": {
      "text/plain": [
       "<BarContainer object of 6 artists>"
      ]
     },
     "execution_count": 26,
     "metadata": {},
     "output_type": "execute_result"
    },
    {
     "data": {
      "image/png": "[encoded data removed]",
      "text/plain": [
       "<Figure size 720x720 with 1 Axes>"
      ]
     },
     "metadata": {
      "needs_background": "light"
     },
     "output_type": "display_data"
    }
   ],
   "source": [
    "articles_types=np.array([lifestyle_articles,entertainment_articles,business_articles,socialmedia_articles,technical_articles,world_articles],dtype=np.int64)\n",
    "fig= plt.figure(figsize=(10,10))\n",
    "ax=fig.gca()\n",
    "ax.set_title('TOTAL SHARED ARTICLES OF EACH GENRE')\n",
    "ax.set_ylabel('Number of Articles')\n",
    "plt.bar(x=['lifestyle','entertainment','business','socialmedia','technical','world'],height=articles_types,color='rgb')\n"
   ]
  },
  {
   "cell_type": "code",
   "execution_count": 27,
   "metadata": {},
   "outputs": [
    {
     "data": {
      "text/plain": [
       "array([ 6272279, 16238428, 14180070,  7481357, 20069193, 16379535],\n",
       "      dtype=int64)"
      ]
     },
     "execution_count": 27,
     "metadata": {},
     "output_type": "execute_result"
    }
   ],
   "source": [
    "articles_types"
   ]
  },
  {
   "cell_type": "markdown",
   "metadata": {},
   "source": [
    "### Observations:\n",
    "\n",
    "1) World articles are the highest ones in sharing order.\n",
    "\n",
    "2) lifestyle articles are shared the least."
   ]
  },
  {
   "cell_type": "code",
   "execution_count": 28,
   "metadata": {},
   "outputs": [],
   "source": [
    "monday_articles=data[data[' weekday_is_monday'] == 1][' shares'].sum()\n",
    "tuesday_articles=data[data[' weekday_is_tuesday'] == 1][' shares'].sum()\n",
    "wednesday_articles=data[data[' weekday_is_wednesday'] == 1][' shares'].sum()\n",
    "thursday_articles=data[data[' weekday_is_thursday'] == 1][' shares'].sum()\n",
    "friday_articles=data[data[' weekday_is_friday'] == 1][' shares'].sum()\n",
    "saturday_articles=data[data[' weekday_is_saturday'] == 1][' shares'].sum()\n",
    "sunday_articles=data[data[' weekday_is_sunday'] == 1][' shares'].sum()\n",
    "weekend_articles=data[data[' is_weekend'] == 1][' shares'].sum()"
   ]
  },
  {
   "cell_type": "code",
   "execution_count": 29,
   "metadata": {},
   "outputs": [
    {
     "data": {
      "text/plain": [
       "<BarContainer object of 8 artists>"
      ]
     },
     "execution_count": 29,
     "metadata": {},
     "output_type": "execute_result"
    },
    {
     "data": {
      "image/png": "[encoded data removed]",
      "text/plain": [
       "<Figure size 720x720 with 1 Axes>"
      ]
     },
     "metadata": {
      "needs_background": "light"
     },
     "output_type": "display_data"
    }
   ],
   "source": [
    "articles_publishing_days= np.array([monday_articles,tuesday_articles,wednesday_articles,thursday_articles,friday_articles,\n",
    "                                    saturday_articles,sunday_articles,weekend_articles])\n",
    "fig= plt.figure(figsize=(10,10))\n",
    "ax=fig.gca()\n",
    "ax.set_title('Total sharing of articles day-wise')\n",
    "ax.set_ylabel('Number of Articles')\n",
    "plt.bar(x=['monday','tuesday','wednesday','thursday','friday','saturday','sunday','weekend'],height=articles_publishing_days\n",
    "        ,color='rgb')\n"
   ]
  },
  {
   "cell_type": "code",
   "execution_count": 30,
   "metadata": {},
   "outputs": [
    {
     "name": "stdout",
     "output_type": "stream",
     "text": [
      "Best channel on  weekday_is_monday has articles 3230332 and channel is  data_channel_is_tech\n",
      "Best channel on  weekday_is_tuesday has articles 3883646 and channel is  data_channel_is_tech\n",
      "Best channel on  weekday_is_wednesday has articles 3807165 and channel is  data_channel_is_tech\n",
      "Best channel on  weekday_is_thursday has articles 3328651 and channel is  data_channel_is_tech\n",
      "Best channel on  weekday_is_friday has articles 2607854 and channel is  data_channel_is_tech\n",
      "Best channel on  weekday_is_saturday has articles 1764513 and channel is  data_channel_is_tech\n",
      "Best channel on  weekday_is_sunday has articles 1770970 and channel is  data_channel_is_entertainment\n",
      "Best channel on  is_weekend has articles 3211545 and channel is  data_channel_is_tech\n"
     ]
    }
   ],
   "source": [
    "result=[]\n",
    "days=[' weekday_is_monday',' weekday_is_tuesday',' weekday_is_wednesday',' weekday_is_thursday',' weekday_is_friday',\n",
    "     ' weekday_is_saturday',' weekday_is_sunday',' is_weekend']\n",
    "genre=[' data_channel_is_lifestyle',' data_channel_is_entertainment',' data_channel_is_bus',' data_channel_is_socmed',\n",
    "       ' data_channel_is_tech',' data_channel_is_world']\n",
    "for i in days:\n",
    "    list1=[]\n",
    "    for j in genre:\n",
    "        list1.append(data.groupby([i,j])[' shares'].sum()[1][1])\n",
    "    print('Best channel on {} has articles {} and channel is {}'.format(i,max(list1),genre[list1.index(max(list1))]))"
   ]
  },
  {
   "cell_type": "code",
   "execution_count": 31,
   "metadata": {},
   "outputs": [],
   "source": [
    "Worst_min_shares=pd.DataFrame(data.groupby([' kw_min_min'],sort=True)[' shares'].sum())\n",
    "Worst_max_shares=pd.DataFrame(data.groupby([' kw_max_min'],sort=True)[' shares'].sum())\n",
    "Worst_avg_shares=pd.DataFrame(data.groupby([' kw_avg_min'],sort=True)[' shares'].sum())\n",
    "Best_min_shares=pd.DataFrame(data.groupby([' kw_min_max'],sort=True)[' shares'].sum())\n",
    "Best_max_shares=pd.DataFrame(data.groupby([' kw_max_max'],sort=True)[' shares'].sum())\n",
    "Best_avg_shares=pd.DataFrame(data.groupby([' kw_avg_max'],sort=True)[' shares'].sum())\n",
    "Normal_min_shares=pd.DataFrame(data.groupby([' kw_min_avg'],sort=True)[' shares'].sum())\n",
    "Normal_max_shares=pd.DataFrame(data.groupby([' kw_max_avg'],sort=True)[' shares'].sum())\n",
    "Normal_avg_shares=pd.DataFrame(data.groupby([' kw_avg_avg'],sort=True)[' shares'].sum())"
   ]
  },
  {
   "cell_type": "code",
   "execution_count": 32,
   "metadata": {},
   "outputs": [
    {
     "data": {
      "text/plain": [
       "<matplotlib.axes._subplots.AxesSubplot at 0x2323cecd5c0>"
      ]
     },
     "execution_count": 32,
     "metadata": {},
     "output_type": "execute_result"
    },
    {
     "data": {
      "image/png": "[encoded data removed]",
      "text/plain": [
       "<Figure size 432x288 with 1 Axes>"
      ]
     },
     "metadata": {
      "needs_background": "light"
     },
     "output_type": "display_data"
    }
   ],
   "source": [
    "Worst_min_shares.plot()"
   ]
  },
  {
   "cell_type": "code",
   "execution_count": 33,
   "metadata": {},
   "outputs": [],
   "source": [
    "Lda_00=pd.DataFrame(data.groupby(by=[' LDA_00'])[' shares'].sum().sort_values(ascending=False)).reset_index()\n",
    "Lda_01=pd.DataFrame(data.groupby(by=[' LDA_01'])[' shares'].sum().sort_values(ascending=False)).reset_index()\n",
    "Lda_02=pd.DataFrame(data.groupby(by=[' LDA_02'])[' shares'].sum().sort_values(ascending=False)).reset_index()\n",
    "Lda_03=pd.DataFrame(data.groupby(by=[' LDA_03'])[' shares'].sum().sort_values(ascending=False)).reset_index()\n",
    "Lda_04=pd.DataFrame(data.groupby(by=[' LDA_04'])[' shares'].sum().sort_values(ascending=False)).reset_index()\n",
    "\n"
   ]
  },
  {
   "cell_type": "code",
   "execution_count": 34,
   "metadata": {},
   "outputs": [],
   "source": [
    "## mean respective lda for > 50 shares\n",
    "mean_lda_00=np.mean(Lda_00[Lda_00[' shares'] > 50])[0]\n",
    "mean_lda_01=np.mean(Lda_01[Lda_01[' shares'] > 50])[0]\n",
    "mean_lda_02=np.mean(Lda_02[Lda_02[' shares'] > 50])[0]\n",
    "mean_lda_03=np.mean(Lda_03[Lda_03[' shares'] > 50])[0]\n",
    "mean_lda_04=np.mean(Lda_04[Lda_04[' shares'] > 50])[0]"
   ]
  },
  {
   "cell_type": "code",
   "execution_count": 35,
   "metadata": {},
   "outputs": [
    {
     "data": {
      "text/plain": [
       "<BarContainer object of 5 artists>"
      ]
     },
     "execution_count": 35,
     "metadata": {},
     "output_type": "execute_result"
    },
    {
     "data": {
      "image/png": "[encoded data removed]",
      "text/plain": [
       "<Figure size 576x576 with 1 Axes>"
      ]
     },
     "metadata": {
      "needs_background": "light"
     },
     "output_type": "display_data"
    }
   ],
   "source": [
    "fig=plt.figure(figsize=(8,8))\n",
    "ax=fig.gca()\n",
    "plt.bar(x=['mean_lda_00','mean_lda_01','mean_lda_02','mean_lda_03','mean_lda_04'],\n",
    "        height=[mean_lda_00,mean_lda_01,mean_lda_02,mean_lda_03,mean_lda_04])"
   ]
  },
  {
   "cell_type": "code",
   "execution_count": 36,
   "metadata": {},
   "outputs": [
    {
     "data": {
      "text/plain": [
       "<matplotlib.axes._subplots.AxesSubplot at 0x2323cf94128>"
      ]
     },
     "execution_count": 36,
     "metadata": {},
     "output_type": "execute_result"
    },
    {
     "data": {
      "image/png": "[encoded data removed]",
      "text/plain": [
       "<Figure size 432x288 with 1 Axes>"
      ]
     },
     "metadata": {
      "needs_background": "light"
     },
     "output_type": "display_data"
    }
   ],
   "source": [
    "sns.scatterplot(x=data[' global_subjectivity'],y=data[' shares']) # Subjectivity from 0.0-1.0"
   ]
  },
  {
   "cell_type": "code",
   "execution_count": 37,
   "metadata": {},
   "outputs": [],
   "source": [
    "columns_group_3=[' global_sentiment_polarity', ' global_rate_positive_words',\n",
    "       ' global_rate_negative_words', ' rate_positive_words',\n",
    "       ' rate_negative_words', ' avg_positive_polarity',\n",
    "       ' min_positive_polarity', ' max_positive_polarity',\n",
    "       ' avg_negative_polarity', ' min_negative_polarity',\n",
    "       ' max_negative_polarity', ' title_subjectivity',\n",
    "       ' title_sentiment_polarity', ' abs_title_subjectivity',\n",
    "       ' abs_title_sentiment_polarity', ' shares']"
   ]
  },
  {
   "cell_type": "code",
   "execution_count": 38,
   "metadata": {},
   "outputs": [
    {
     "data": {
      "text/plain": [
       "<matplotlib.axes._subplots.AxesSubplot at 0x23241851198>"
      ]
     },
     "execution_count": 38,
     "metadata": {},
     "output_type": "execute_result"
    },
    {
     "data": {
      "image/png": "[encoded data removed]",
      "text/plain": [
       "<Figure size 1440x1440 with 2 Axes>"
      ]
     },
     "metadata": {
      "needs_background": "light"
     },
     "output_type": "display_data"
    }
   ],
   "source": [
    "fig, ax = plt.subplots(figsize=(20,20))\n",
    "\n",
    "sns.heatmap(data[columns_group_3].corr(),linewidth=1.0,ax=ax,square=True,annot=True)"
   ]
  },
  {
   "cell_type": "markdown",
   "metadata": {},
   "source": [
    "### 2. Principal Component Analysis"
   ]
  },
  {
   "cell_type": "code",
   "execution_count": 39,
   "metadata": {},
   "outputs": [],
   "source": [
    "from sklearn.decomposition import PCA"
   ]
  },
  {
   "cell_type": "code",
   "execution_count": 40,
   "metadata": {},
   "outputs": [],
   "source": [
    "y= data[' shares']"
   ]
  },
  {
   "cell_type": "code",
   "execution_count": 41,
   "metadata": {},
   "outputs": [],
   "source": [
    "pca_data=data.drop(labels=['url',' shares','date'],axis=1)"
   ]
  },
  {
   "cell_type": "code",
   "execution_count": 42,
   "metadata": {},
   "outputs": [
    {
     "data": {
      "text/html": [
       "<div>\n",
       "<style scoped>\n",
       "    .dataframe tbody tr th:only-of-type {\n",
       "        vertical-align: middle;\n",
       "    }\n",
       "\n",
       "    .dataframe tbody tr th {\n",
       "        vertical-align: top;\n",
       "    }\n",
       "\n",
       "    .dataframe thead th {\n",
       "        text-align: right;\n",
       "    }\n",
       "</style>\n",
       "<table border=\"1\" class=\"dataframe\">\n",
       "  <thead>\n",
       "    <tr style=\"text-align: right;\">\n",
       "      <th></th>\n",
       "      <th>timedelta</th>\n",
       "      <th>n_tokens_title</th>\n",
       "      <th>n_tokens_content</th>\n",
       "      <th>n_unique_tokens</th>\n",
       "      <th>n_non_stop_words</th>\n",
       "      <th>n_non_stop_unique_tokens</th>\n",
       "      <th>num_hrefs</th>\n",
       "      <th>num_self_hrefs</th>\n",
       "      <th>num_imgs</th>\n",
       "      <th>num_videos</th>\n",
       "      <th>...</th>\n",
       "      <th>avg_positive_polarity</th>\n",
       "      <th>min_positive_polarity</th>\n",
       "      <th>max_positive_polarity</th>\n",
       "      <th>avg_negative_polarity</th>\n",
       "      <th>min_negative_polarity</th>\n",
       "      <th>max_negative_polarity</th>\n",
       "      <th>title_subjectivity</th>\n",
       "      <th>title_sentiment_polarity</th>\n",
       "      <th>abs_title_subjectivity</th>\n",
       "      <th>abs_title_sentiment_polarity</th>\n",
       "    </tr>\n",
       "  </thead>\n",
       "  <tbody>\n",
       "    <tr>\n",
       "      <th>0</th>\n",
       "      <td>731.0</td>\n",
       "      <td>12.0</td>\n",
       "      <td>219.0</td>\n",
       "      <td>0.663594</td>\n",
       "      <td>1.0</td>\n",
       "      <td>0.815385</td>\n",
       "      <td>4.0</td>\n",
       "      <td>2.0</td>\n",
       "      <td>1.0</td>\n",
       "      <td>0.0</td>\n",
       "      <td>...</td>\n",
       "      <td>0.378636</td>\n",
       "      <td>0.100000</td>\n",
       "      <td>0.7</td>\n",
       "      <td>-0.350000</td>\n",
       "      <td>-0.600</td>\n",
       "      <td>-0.200000</td>\n",
       "      <td>0.500000</td>\n",
       "      <td>-0.187500</td>\n",
       "      <td>0.000000</td>\n",
       "      <td>0.187500</td>\n",
       "    </tr>\n",
       "    <tr>\n",
       "      <th>1</th>\n",
       "      <td>731.0</td>\n",
       "      <td>9.0</td>\n",
       "      <td>255.0</td>\n",
       "      <td>0.604743</td>\n",
       "      <td>1.0</td>\n",
       "      <td>0.791946</td>\n",
       "      <td>3.0</td>\n",
       "      <td>1.0</td>\n",
       "      <td>1.0</td>\n",
       "      <td>0.0</td>\n",
       "      <td>...</td>\n",
       "      <td>0.286915</td>\n",
       "      <td>0.033333</td>\n",
       "      <td>0.7</td>\n",
       "      <td>-0.118750</td>\n",
       "      <td>-0.125</td>\n",
       "      <td>-0.100000</td>\n",
       "      <td>0.000000</td>\n",
       "      <td>0.000000</td>\n",
       "      <td>0.500000</td>\n",
       "      <td>0.000000</td>\n",
       "    </tr>\n",
       "    <tr>\n",
       "      <th>2</th>\n",
       "      <td>731.0</td>\n",
       "      <td>9.0</td>\n",
       "      <td>211.0</td>\n",
       "      <td>0.575130</td>\n",
       "      <td>1.0</td>\n",
       "      <td>0.663866</td>\n",
       "      <td>3.0</td>\n",
       "      <td>1.0</td>\n",
       "      <td>1.0</td>\n",
       "      <td>0.0</td>\n",
       "      <td>...</td>\n",
       "      <td>0.495833</td>\n",
       "      <td>0.100000</td>\n",
       "      <td>1.0</td>\n",
       "      <td>-0.466667</td>\n",
       "      <td>-0.800</td>\n",
       "      <td>-0.133333</td>\n",
       "      <td>0.000000</td>\n",
       "      <td>0.000000</td>\n",
       "      <td>0.500000</td>\n",
       "      <td>0.000000</td>\n",
       "    </tr>\n",
       "    <tr>\n",
       "      <th>3</th>\n",
       "      <td>731.0</td>\n",
       "      <td>9.0</td>\n",
       "      <td>531.0</td>\n",
       "      <td>0.503788</td>\n",
       "      <td>1.0</td>\n",
       "      <td>0.665635</td>\n",
       "      <td>9.0</td>\n",
       "      <td>0.0</td>\n",
       "      <td>1.0</td>\n",
       "      <td>0.0</td>\n",
       "      <td>...</td>\n",
       "      <td>0.385965</td>\n",
       "      <td>0.136364</td>\n",
       "      <td>0.8</td>\n",
       "      <td>-0.369697</td>\n",
       "      <td>-0.600</td>\n",
       "      <td>-0.166667</td>\n",
       "      <td>0.000000</td>\n",
       "      <td>0.000000</td>\n",
       "      <td>0.500000</td>\n",
       "      <td>0.000000</td>\n",
       "    </tr>\n",
       "    <tr>\n",
       "      <th>4</th>\n",
       "      <td>731.0</td>\n",
       "      <td>13.0</td>\n",
       "      <td>1072.0</td>\n",
       "      <td>0.415646</td>\n",
       "      <td>1.0</td>\n",
       "      <td>0.540890</td>\n",
       "      <td>19.0</td>\n",
       "      <td>19.0</td>\n",
       "      <td>20.0</td>\n",
       "      <td>0.0</td>\n",
       "      <td>...</td>\n",
       "      <td>0.411127</td>\n",
       "      <td>0.033333</td>\n",
       "      <td>1.0</td>\n",
       "      <td>-0.220192</td>\n",
       "      <td>-0.500</td>\n",
       "      <td>-0.050000</td>\n",
       "      <td>0.454545</td>\n",
       "      <td>0.136364</td>\n",
       "      <td>0.045455</td>\n",
       "      <td>0.136364</td>\n",
       "    </tr>\n",
       "  </tbody>\n",
       "</table>\n",
       "<p>5 rows × 59 columns</p>\n",
       "</div>"
      ],
      "text/plain": [
       "    timedelta   n_tokens_title   n_tokens_content   n_unique_tokens  \\\n",
       "0       731.0             12.0              219.0          0.663594   \n",
       "1       731.0              9.0              255.0          0.604743   \n",
       "2       731.0              9.0              211.0          0.575130   \n",
       "3       731.0              9.0              531.0          0.503788   \n",
       "4       731.0             13.0             1072.0          0.415646   \n",
       "\n",
       "    n_non_stop_words   n_non_stop_unique_tokens   num_hrefs   num_self_hrefs  \\\n",
       "0                1.0                   0.815385         4.0              2.0   \n",
       "1                1.0                   0.791946         3.0              1.0   \n",
       "2                1.0                   0.663866         3.0              1.0   \n",
       "3                1.0                   0.665635         9.0              0.0   \n",
       "4                1.0                   0.540890        19.0             19.0   \n",
       "\n",
       "    num_imgs   num_videos  ...   avg_positive_polarity  \\\n",
       "0        1.0          0.0  ...                0.378636   \n",
       "1        1.0          0.0  ...                0.286915   \n",
       "2        1.0          0.0  ...                0.495833   \n",
       "3        1.0          0.0  ...                0.385965   \n",
       "4       20.0          0.0  ...                0.411127   \n",
       "\n",
       "    min_positive_polarity   max_positive_polarity   avg_negative_polarity  \\\n",
       "0                0.100000                     0.7               -0.350000   \n",
       "1                0.033333                     0.7               -0.118750   \n",
       "2                0.100000                     1.0               -0.466667   \n",
       "3                0.136364                     0.8               -0.369697   \n",
       "4                0.033333                     1.0               -0.220192   \n",
       "\n",
       "    min_negative_polarity   max_negative_polarity   title_subjectivity  \\\n",
       "0                  -0.600               -0.200000             0.500000   \n",
       "1                  -0.125               -0.100000             0.000000   \n",
       "2                  -0.800               -0.133333             0.000000   \n",
       "3                  -0.600               -0.166667             0.000000   \n",
       "4                  -0.500               -0.050000             0.454545   \n",
       "\n",
       "    title_sentiment_polarity   abs_title_subjectivity  \\\n",
       "0                  -0.187500                 0.000000   \n",
       "1                   0.000000                 0.500000   \n",
       "2                   0.000000                 0.500000   \n",
       "3                   0.000000                 0.500000   \n",
       "4                   0.136364                 0.045455   \n",
       "\n",
       "    abs_title_sentiment_polarity  \n",
       "0                       0.187500  \n",
       "1                       0.000000  \n",
       "2                       0.000000  \n",
       "3                       0.000000  \n",
       "4                       0.136364  \n",
       "\n",
       "[5 rows x 59 columns]"
      ]
     },
     "execution_count": 42,
     "metadata": {},
     "output_type": "execute_result"
    }
   ],
   "source": [
    "pca_data.head()"
   ]
  },
  {
   "cell_type": "code",
   "execution_count": 43,
   "metadata": {},
   "outputs": [],
   "source": [
    "from sklearn.preprocessing import StandardScaler\n",
    "scaler= StandardScaler()\n",
    "data_transformed= scaler.fit_transform(pca_data)"
   ]
  },
  {
   "cell_type": "code",
   "execution_count": 44,
   "metadata": {},
   "outputs": [],
   "source": [
    "pca=PCA()\n",
    "principal_comp=pd.DataFrame(pca.fit_transform(pca_data))"
   ]
  },
  {
   "cell_type": "code",
   "execution_count": 45,
   "metadata": {},
   "outputs": [
    {
     "data": {
      "text/html": [
       "<div>\n",
       "<style scoped>\n",
       "    .dataframe tbody tr th:only-of-type {\n",
       "        vertical-align: middle;\n",
       "    }\n",
       "\n",
       "    .dataframe tbody tr th {\n",
       "        vertical-align: top;\n",
       "    }\n",
       "\n",
       "    .dataframe thead th {\n",
       "        text-align: right;\n",
       "    }\n",
       "</style>\n",
       "<table border=\"1\" class=\"dataframe\">\n",
       "  <thead>\n",
       "    <tr style=\"text-align: right;\">\n",
       "      <th></th>\n",
       "      <th>0</th>\n",
       "      <th>1</th>\n",
       "      <th>2</th>\n",
       "      <th>3</th>\n",
       "      <th>4</th>\n",
       "      <th>5</th>\n",
       "      <th>6</th>\n",
       "      <th>7</th>\n",
       "      <th>8</th>\n",
       "      <th>9</th>\n",
       "      <th>...</th>\n",
       "      <th>49</th>\n",
       "      <th>50</th>\n",
       "      <th>51</th>\n",
       "      <th>52</th>\n",
       "      <th>53</th>\n",
       "      <th>54</th>\n",
       "      <th>55</th>\n",
       "      <th>56</th>\n",
       "      <th>57</th>\n",
       "      <th>58</th>\n",
       "    </tr>\n",
       "  </thead>\n",
       "  <tbody>\n",
       "    <tr>\n",
       "      <th>0</th>\n",
       "      <td>791021.495431</td>\n",
       "      <td>83404.305658</td>\n",
       "      <td>-4678.168676</td>\n",
       "      <td>-5776.270379</td>\n",
       "      <td>-144.076118</td>\n",
       "      <td>-4092.341275</td>\n",
       "      <td>-102.275303</td>\n",
       "      <td>650.736809</td>\n",
       "      <td>1038.849780</td>\n",
       "      <td>936.544594</td>\n",
       "      <td>...</td>\n",
       "      <td>0.005491</td>\n",
       "      <td>-0.009271</td>\n",
       "      <td>0.005382</td>\n",
       "      <td>0.052455</td>\n",
       "      <td>0.011097</td>\n",
       "      <td>-0.002560</td>\n",
       "      <td>-0.003052</td>\n",
       "      <td>-4.487488e-07</td>\n",
       "      <td>2.549650e-10</td>\n",
       "      <td>-2.094564e-10</td>\n",
       "    </tr>\n",
       "    <tr>\n",
       "      <th>1</th>\n",
       "      <td>791031.717685</td>\n",
       "      <td>83378.123283</td>\n",
       "      <td>-4483.142243</td>\n",
       "      <td>-6536.584976</td>\n",
       "      <td>-491.641366</td>\n",
       "      <td>-4081.641056</td>\n",
       "      <td>-117.560039</td>\n",
       "      <td>647.114347</td>\n",
       "      <td>1038.175264</td>\n",
       "      <td>952.836909</td>\n",
       "      <td>...</td>\n",
       "      <td>-0.040361</td>\n",
       "      <td>-0.007435</td>\n",
       "      <td>-0.004695</td>\n",
       "      <td>-0.016577</td>\n",
       "      <td>0.024048</td>\n",
       "      <td>0.002821</td>\n",
       "      <td>0.002272</td>\n",
       "      <td>-1.313122e-06</td>\n",
       "      <td>3.930448e-11</td>\n",
       "      <td>5.314719e-11</td>\n",
       "    </tr>\n",
       "    <tr>\n",
       "      <th>2</th>\n",
       "      <td>791012.797033</td>\n",
       "      <td>83426.566435</td>\n",
       "      <td>-4844.084574</td>\n",
       "      <td>-5129.380620</td>\n",
       "      <td>151.599427</td>\n",
       "      <td>-4101.483712</td>\n",
       "      <td>-89.155679</td>\n",
       "      <td>653.873676</td>\n",
       "      <td>1039.316305</td>\n",
       "      <td>933.230955</td>\n",
       "      <td>...</td>\n",
       "      <td>-0.050266</td>\n",
       "      <td>0.037994</td>\n",
       "      <td>0.067029</td>\n",
       "      <td>-0.045597</td>\n",
       "      <td>-0.040833</td>\n",
       "      <td>-0.015745</td>\n",
       "      <td>0.000572</td>\n",
       "      <td>6.488661e-07</td>\n",
       "      <td>-4.160343e-11</td>\n",
       "      <td>8.478008e-12</td>\n",
       "    </tr>\n",
       "    <tr>\n",
       "      <th>3</th>\n",
       "      <td>791031.702526</td>\n",
       "      <td>83377.935742</td>\n",
       "      <td>-4482.973401</td>\n",
       "      <td>-6536.472238</td>\n",
       "      <td>-492.072895</td>\n",
       "      <td>-4082.110141</td>\n",
       "      <td>-116.145104</td>\n",
       "      <td>647.777587</td>\n",
       "      <td>1036.835804</td>\n",
       "      <td>1081.576060</td>\n",
       "      <td>...</td>\n",
       "      <td>0.031495</td>\n",
       "      <td>0.020979</td>\n",
       "      <td>-0.029307</td>\n",
       "      <td>-0.020405</td>\n",
       "      <td>0.002897</td>\n",
       "      <td>0.005661</td>\n",
       "      <td>0.000900</td>\n",
       "      <td>6.731578e-07</td>\n",
       "      <td>-4.843095e-11</td>\n",
       "      <td>1.403709e-11</td>\n",
       "    </tr>\n",
       "    <tr>\n",
       "      <th>4</th>\n",
       "      <td>790836.088810</td>\n",
       "      <td>83897.886679</td>\n",
       "      <td>-8235.468719</td>\n",
       "      <td>7996.887885</td>\n",
       "      <td>-6443.340052</td>\n",
       "      <td>-4532.560234</td>\n",
       "      <td>2124.075318</td>\n",
       "      <td>724.081334</td>\n",
       "      <td>1037.112774</td>\n",
       "      <td>1321.347730</td>\n",
       "      <td>...</td>\n",
       "      <td>-0.064586</td>\n",
       "      <td>0.010790</td>\n",
       "      <td>0.042097</td>\n",
       "      <td>-0.015292</td>\n",
       "      <td>0.000365</td>\n",
       "      <td>0.013418</td>\n",
       "      <td>-0.004283</td>\n",
       "      <td>-6.134374e-07</td>\n",
       "      <td>-2.303011e-11</td>\n",
       "      <td>1.867053e-12</td>\n",
       "    </tr>\n",
       "  </tbody>\n",
       "</table>\n",
       "<p>5 rows × 59 columns</p>\n",
       "</div>"
      ],
      "text/plain": [
       "              0             1            2            3            4   \\\n",
       "0  791021.495431  83404.305658 -4678.168676 -5776.270379  -144.076118   \n",
       "1  791031.717685  83378.123283 -4483.142243 -6536.584976  -491.641366   \n",
       "2  791012.797033  83426.566435 -4844.084574 -5129.380620   151.599427   \n",
       "3  791031.702526  83377.935742 -4482.973401 -6536.472238  -492.072895   \n",
       "4  790836.088810  83897.886679 -8235.468719  7996.887885 -6443.340052   \n",
       "\n",
       "            5            6           7            8            9   ...  \\\n",
       "0 -4092.341275  -102.275303  650.736809  1038.849780   936.544594  ...   \n",
       "1 -4081.641056  -117.560039  647.114347  1038.175264   952.836909  ...   \n",
       "2 -4101.483712   -89.155679  653.873676  1039.316305   933.230955  ...   \n",
       "3 -4082.110141  -116.145104  647.777587  1036.835804  1081.576060  ...   \n",
       "4 -4532.560234  2124.075318  724.081334  1037.112774  1321.347730  ...   \n",
       "\n",
       "         49        50        51        52        53        54        55  \\\n",
       "0  0.005491 -0.009271  0.005382  0.052455  0.011097 -0.002560 -0.003052   \n",
       "1 -0.040361 -0.007435 -0.004695 -0.016577  0.024048  0.002821  0.002272   \n",
       "2 -0.050266  0.037994  0.067029 -0.045597 -0.040833 -0.015745  0.000572   \n",
       "3  0.031495  0.020979 -0.029307 -0.020405  0.002897  0.005661  0.000900   \n",
       "4 -0.064586  0.010790  0.042097 -0.015292  0.000365  0.013418 -0.004283   \n",
       "\n",
       "             56            57            58  \n",
       "0 -4.487488e-07  2.549650e-10 -2.094564e-10  \n",
       "1 -1.313122e-06  3.930448e-11  5.314719e-11  \n",
       "2  6.488661e-07 -4.160343e-11  8.478008e-12  \n",
       "3  6.731578e-07 -4.843095e-11  1.403709e-11  \n",
       "4 -6.134374e-07 -2.303011e-11  1.867053e-12  \n",
       "\n",
       "[5 rows x 59 columns]"
      ]
     },
     "execution_count": 45,
     "metadata": {},
     "output_type": "execute_result"
    }
   ],
   "source": [
    "principal_comp.head()"
   ]
  },
  {
   "cell_type": "code",
   "execution_count": 46,
   "metadata": {},
   "outputs": [
    {
     "data": {
      "text/plain": [
       "array([7.63976554e-01, 1.63195754e-01, 3.52492986e-02, 3.17219496e-02,\n",
       "       4.84094167e-03, 6.01627888e-04, 2.77247942e-04, 1.12639413e-04,\n",
       "       1.67201215e-05, 3.46046463e-06, 2.90853352e-06, 5.28805716e-07,\n",
       "       3.47409938e-07, 1.79607444e-08, 1.46381115e-09, 7.59014860e-10,\n",
       "       7.15471984e-10, 2.16898393e-10, 1.59100963e-10, 5.90130965e-11,\n",
       "       3.75327159e-11, 9.35781288e-12, 3.59951878e-12, 3.15248023e-12,\n",
       "       2.73366160e-12, 2.65784910e-12, 2.63119067e-12, 2.60477714e-12,\n",
       "       2.42879948e-12, 2.16956337e-12, 2.11278768e-12, 1.19290115e-12,\n",
       "       1.02603041e-12, 9.27831512e-13, 8.52270783e-13, 7.96517257e-13,\n",
       "       7.72828491e-13, 6.49858477e-13, 3.80464247e-13, 3.66363498e-13,\n",
       "       3.44065381e-13, 3.24521033e-13, 2.71216098e-13, 2.30916328e-13,\n",
       "       1.49117430e-13, 1.12166411e-13, 8.07278714e-14, 6.68598282e-14,\n",
       "       6.29388154e-14, 3.26726283e-14, 2.16222079e-14, 1.79645290e-14,\n",
       "       1.20365051e-14, 6.66033423e-15, 1.89505378e-15, 2.20213457e-16,\n",
       "       2.55131059e-22, 4.32568607e-33, 4.32568607e-33])"
      ]
     },
     "execution_count": 46,
     "metadata": {},
     "output_type": "execute_result"
    }
   ],
   "source": [
    "pca.explained_variance_ratio_"
   ]
  },
  {
   "cell_type": "markdown",
   "metadata": {},
   "source": [
    "### 3. Model Selection:"
   ]
  },
  {
   "cell_type": "markdown",
   "metadata": {},
   "source": [
    "### 1.Random Forest Regressor"
   ]
  },
  {
   "cell_type": "code",
   "execution_count": 47,
   "metadata": {},
   "outputs": [],
   "source": [
    "from sklearn.ensemble import RandomForestRegressor\n",
    "from sklearn.model_selection import train_test_split\n",
    "from sklearn.model_selection import RandomizedSearchCV"
   ]
  },
  {
   "cell_type": "code",
   "execution_count": 141,
   "metadata": {},
   "outputs": [],
   "source": [
    "test_size=0.2\n",
    "X_train, X_test, y_train, y_test = train_test_split(pca_data, y,  \n",
    "    test_size=test_size,random_state=23)"
   ]
  },
  {
   "cell_type": "code",
   "execution_count": 51,
   "metadata": {},
   "outputs": [],
   "source": [
    "\n",
    "param_grid= {'n_estimators':[20,40],\n",
    "            'max_depth':[10,20],\n",
    "             'max_features':['auto',10,20],\n",
    "             'bootstrap':[True,False],             \n",
    "            }\n",
    "\n",
    "## Initial result gave both extreme values as best parameters so run again by increasing limit"
   ]
  },
  {
   "cell_type": "code",
   "execution_count": 51,
   "metadata": {},
   "outputs": [
    {
     "name": "stdout",
     "output_type": "stream",
     "text": [
      "Fitting 5 folds for each of 10 candidates, totalling 50 fits\n"
     ]
    },
    {
     "name": "stderr",
     "output_type": "stream",
     "text": [
      "[Parallel(n_jobs=-1)]: Using backend LokyBackend with 4 concurrent workers.\n",
      "[Parallel(n_jobs=-1)]: Done  42 tasks      | elapsed:  3.2min\n",
      "[Parallel(n_jobs=-1)]: Done  50 out of  50 | elapsed:  3.4min finished\n"
     ]
    }
   ],
   "source": [
    "random_search= RandomizedSearchCV(RandomForestRegressor(),param_distributions=param_grid,\n",
    "                                  cv=5,scoring='neg_mean_absolute_error',\n",
    "                         verbose=1,n_jobs=-1)\n",
    "randomsearch_result=random_search.fit(X_train,y_train)\n",
    "best_paramters= randomsearch_result.best_params_"
   ]
  },
  {
   "cell_type": "code",
   "execution_count": 52,
   "metadata": {},
   "outputs": [
    {
     "name": "stderr",
     "output_type": "stream",
     "text": [
      "C:\\Users\\ACER M5\\Anaconda3\\lib\\site-packages\\sklearn\\utils\\deprecation.py:125: FutureWarning: You are accessing a training score ('split0_train_score'), which will not be available by default any more in 0.21. If you need training scores, please set return_train_score=True\n",
      "  warnings.warn(*warn_args, **warn_kwargs)\n",
      "C:\\Users\\ACER M5\\Anaconda3\\lib\\site-packages\\sklearn\\utils\\deprecation.py:125: FutureWarning: You are accessing a training score ('split1_train_score'), which will not be available by default any more in 0.21. If you need training scores, please set return_train_score=True\n",
      "  warnings.warn(*warn_args, **warn_kwargs)\n",
      "C:\\Users\\ACER M5\\Anaconda3\\lib\\site-packages\\sklearn\\utils\\deprecation.py:125: FutureWarning: You are accessing a training score ('split2_train_score'), which will not be available by default any more in 0.21. If you need training scores, please set return_train_score=True\n",
      "  warnings.warn(*warn_args, **warn_kwargs)\n",
      "C:\\Users\\ACER M5\\Anaconda3\\lib\\site-packages\\sklearn\\utils\\deprecation.py:125: FutureWarning: You are accessing a training score ('split3_train_score'), which will not be available by default any more in 0.21. If you need training scores, please set return_train_score=True\n",
      "  warnings.warn(*warn_args, **warn_kwargs)\n",
      "C:\\Users\\ACER M5\\Anaconda3\\lib\\site-packages\\sklearn\\utils\\deprecation.py:125: FutureWarning: You are accessing a training score ('split4_train_score'), which will not be available by default any more in 0.21. If you need training scores, please set return_train_score=True\n",
      "  warnings.warn(*warn_args, **warn_kwargs)\n",
      "C:\\Users\\ACER M5\\Anaconda3\\lib\\site-packages\\sklearn\\utils\\deprecation.py:125: FutureWarning: You are accessing a training score ('mean_train_score'), which will not be available by default any more in 0.21. If you need training scores, please set return_train_score=True\n",
      "  warnings.warn(*warn_args, **warn_kwargs)\n",
      "C:\\Users\\ACER M5\\Anaconda3\\lib\\site-packages\\sklearn\\utils\\deprecation.py:125: FutureWarning: You are accessing a training score ('std_train_score'), which will not be available by default any more in 0.21. If you need training scores, please set return_train_score=True\n",
      "  warnings.warn(*warn_args, **warn_kwargs)\n"
     ]
    },
    {
     "data": {
      "text/html": [
       "<div>\n",
       "<style scoped>\n",
       "    .dataframe tbody tr th:only-of-type {\n",
       "        vertical-align: middle;\n",
       "    }\n",
       "\n",
       "    .dataframe tbody tr th {\n",
       "        vertical-align: top;\n",
       "    }\n",
       "\n",
       "    .dataframe thead th {\n",
       "        text-align: right;\n",
       "    }\n",
       "</style>\n",
       "<table border=\"1\" class=\"dataframe\">\n",
       "  <thead>\n",
       "    <tr style=\"text-align: right;\">\n",
       "      <th></th>\n",
       "      <th>mean_fit_time</th>\n",
       "      <th>std_fit_time</th>\n",
       "      <th>mean_score_time</th>\n",
       "      <th>std_score_time</th>\n",
       "      <th>param_n_estimators</th>\n",
       "      <th>param_max_features</th>\n",
       "      <th>param_max_depth</th>\n",
       "      <th>param_bootstrap</th>\n",
       "      <th>params</th>\n",
       "      <th>split0_test_score</th>\n",
       "      <th>...</th>\n",
       "      <th>mean_test_score</th>\n",
       "      <th>std_test_score</th>\n",
       "      <th>rank_test_score</th>\n",
       "      <th>split0_train_score</th>\n",
       "      <th>split1_train_score</th>\n",
       "      <th>split2_train_score</th>\n",
       "      <th>split3_train_score</th>\n",
       "      <th>split4_train_score</th>\n",
       "      <th>mean_train_score</th>\n",
       "      <th>std_train_score</th>\n",
       "    </tr>\n",
       "  </thead>\n",
       "  <tbody>\n",
       "    <tr>\n",
       "      <th>7</th>\n",
       "      <td>5.646922</td>\n",
       "      <td>0.048700</td>\n",
       "      <td>0.056565</td>\n",
       "      <td>0.003005</td>\n",
       "      <td>40</td>\n",
       "      <td>10</td>\n",
       "      <td>10</td>\n",
       "      <td>True</td>\n",
       "      <td>{'n_estimators': 40, 'max_features': 10, 'max_...</td>\n",
       "      <td>-1929.465674</td>\n",
       "      <td>...</td>\n",
       "      <td>-1927.054361</td>\n",
       "      <td>22.862382</td>\n",
       "      <td>1</td>\n",
       "      <td>-1677.873531</td>\n",
       "      <td>-1693.526707</td>\n",
       "      <td>-1692.845756</td>\n",
       "      <td>-1685.713264</td>\n",
       "      <td>-1678.282562</td>\n",
       "      <td>-1685.648364</td>\n",
       "      <td>6.761332</td>\n",
       "    </tr>\n",
       "    <tr>\n",
       "      <th>9</th>\n",
       "      <td>5.502612</td>\n",
       "      <td>0.340097</td>\n",
       "      <td>0.027983</td>\n",
       "      <td>0.005017</td>\n",
       "      <td>20</td>\n",
       "      <td>20</td>\n",
       "      <td>10</td>\n",
       "      <td>True</td>\n",
       "      <td>{'n_estimators': 20, 'max_features': 20, 'max_...</td>\n",
       "      <td>-1941.244133</td>\n",
       "      <td>...</td>\n",
       "      <td>-1934.132448</td>\n",
       "      <td>20.143320</td>\n",
       "      <td>2</td>\n",
       "      <td>-1678.612001</td>\n",
       "      <td>-1688.813419</td>\n",
       "      <td>-1699.870769</td>\n",
       "      <td>-1684.991972</td>\n",
       "      <td>-1681.906083</td>\n",
       "      <td>-1686.838849</td>\n",
       "      <td>7.336948</td>\n",
       "    </tr>\n",
       "    <tr>\n",
       "      <th>4</th>\n",
       "      <td>31.545780</td>\n",
       "      <td>0.170957</td>\n",
       "      <td>0.055567</td>\n",
       "      <td>0.006617</td>\n",
       "      <td>40</td>\n",
       "      <td>auto</td>\n",
       "      <td>10</td>\n",
       "      <td>True</td>\n",
       "      <td>{'n_estimators': 40, 'max_features': 'auto', '...</td>\n",
       "      <td>-1938.180868</td>\n",
       "      <td>...</td>\n",
       "      <td>-1939.432946</td>\n",
       "      <td>22.422965</td>\n",
       "      <td>3</td>\n",
       "      <td>-1698.563982</td>\n",
       "      <td>-1706.120805</td>\n",
       "      <td>-1725.025614</td>\n",
       "      <td>-1697.783502</td>\n",
       "      <td>-1692.986254</td>\n",
       "      <td>-1704.096032</td>\n",
       "      <td>11.278527</td>\n",
       "    </tr>\n",
       "    <tr>\n",
       "      <th>0</th>\n",
       "      <td>15.979563</td>\n",
       "      <td>0.114264</td>\n",
       "      <td>0.034579</td>\n",
       "      <td>0.009804</td>\n",
       "      <td>20</td>\n",
       "      <td>auto</td>\n",
       "      <td>10</td>\n",
       "      <td>True</td>\n",
       "      <td>{'n_estimators': 20, 'max_features': 'auto', '...</td>\n",
       "      <td>-1943.430367</td>\n",
       "      <td>...</td>\n",
       "      <td>-1945.408259</td>\n",
       "      <td>24.064220</td>\n",
       "      <td>4</td>\n",
       "      <td>-1707.045780</td>\n",
       "      <td>-1700.068469</td>\n",
       "      <td>-1738.176579</td>\n",
       "      <td>-1703.300835</td>\n",
       "      <td>-1696.338981</td>\n",
       "      <td>-1708.986129</td>\n",
       "      <td>15.017622</td>\n",
       "    </tr>\n",
       "    <tr>\n",
       "      <th>1</th>\n",
       "      <td>16.185035</td>\n",
       "      <td>0.044349</td>\n",
       "      <td>0.123325</td>\n",
       "      <td>0.003977</td>\n",
       "      <td>40</td>\n",
       "      <td>10</td>\n",
       "      <td>20</td>\n",
       "      <td>False</td>\n",
       "      <td>{'n_estimators': 40, 'max_features': 10, 'max_...</td>\n",
       "      <td>-2007.425910</td>\n",
       "      <td>...</td>\n",
       "      <td>-2004.228719</td>\n",
       "      <td>25.532539</td>\n",
       "      <td>5</td>\n",
       "      <td>-448.991290</td>\n",
       "      <td>-443.435414</td>\n",
       "      <td>-448.928357</td>\n",
       "      <td>-432.597661</td>\n",
       "      <td>-457.757451</td>\n",
       "      <td>-446.342035</td>\n",
       "      <td>8.262876</td>\n",
       "    </tr>\n",
       "    <tr>\n",
       "      <th>5</th>\n",
       "      <td>24.156929</td>\n",
       "      <td>0.060167</td>\n",
       "      <td>0.028382</td>\n",
       "      <td>0.003135</td>\n",
       "      <td>20</td>\n",
       "      <td>auto</td>\n",
       "      <td>10</td>\n",
       "      <td>False</td>\n",
       "      <td>{'n_estimators': 20, 'max_features': 'auto', '...</td>\n",
       "      <td>-2034.420596</td>\n",
       "      <td>...</td>\n",
       "      <td>-2026.159483</td>\n",
       "      <td>32.385501</td>\n",
       "      <td>6</td>\n",
       "      <td>-1701.620072</td>\n",
       "      <td>-1733.872389</td>\n",
       "      <td>-1738.821334</td>\n",
       "      <td>-1698.072288</td>\n",
       "      <td>-1709.357895</td>\n",
       "      <td>-1716.348796</td>\n",
       "      <td>16.804345</td>\n",
       "    </tr>\n",
       "    <tr>\n",
       "      <th>3</th>\n",
       "      <td>8.136391</td>\n",
       "      <td>0.063700</td>\n",
       "      <td>0.061963</td>\n",
       "      <td>0.000632</td>\n",
       "      <td>20</td>\n",
       "      <td>10</td>\n",
       "      <td>20</td>\n",
       "      <td>False</td>\n",
       "      <td>{'n_estimators': 20, 'max_features': 10, 'max_...</td>\n",
       "      <td>-2029.312907</td>\n",
       "      <td>...</td>\n",
       "      <td>-2027.613558</td>\n",
       "      <td>22.466279</td>\n",
       "      <td>7</td>\n",
       "      <td>-482.536239</td>\n",
       "      <td>-459.515162</td>\n",
       "      <td>-466.016677</td>\n",
       "      <td>-439.394555</td>\n",
       "      <td>-448.407013</td>\n",
       "      <td>-459.173929</td>\n",
       "      <td>14.831637</td>\n",
       "    </tr>\n",
       "    <tr>\n",
       "      <th>2</th>\n",
       "      <td>5.240572</td>\n",
       "      <td>0.034627</td>\n",
       "      <td>0.062963</td>\n",
       "      <td>0.005326</td>\n",
       "      <td>20</td>\n",
       "      <td>10</td>\n",
       "      <td>20</td>\n",
       "      <td>True</td>\n",
       "      <td>{'n_estimators': 20, 'max_features': 10, 'max_...</td>\n",
       "      <td>-2048.603695</td>\n",
       "      <td>...</td>\n",
       "      <td>-2037.394100</td>\n",
       "      <td>28.187789</td>\n",
       "      <td>8</td>\n",
       "      <td>-981.537952</td>\n",
       "      <td>-1000.084237</td>\n",
       "      <td>-988.186199</td>\n",
       "      <td>-969.036911</td>\n",
       "      <td>-1004.039921</td>\n",
       "      <td>-988.577044</td>\n",
       "      <td>12.673077</td>\n",
       "    </tr>\n",
       "    <tr>\n",
       "      <th>8</th>\n",
       "      <td>15.756699</td>\n",
       "      <td>0.110102</td>\n",
       "      <td>0.061762</td>\n",
       "      <td>0.002637</td>\n",
       "      <td>20</td>\n",
       "      <td>20</td>\n",
       "      <td>20</td>\n",
       "      <td>False</td>\n",
       "      <td>{'n_estimators': 20, 'max_features': 20, 'max_...</td>\n",
       "      <td>-2038.115569</td>\n",
       "      <td>...</td>\n",
       "      <td>-2048.639981</td>\n",
       "      <td>14.629396</td>\n",
       "      <td>9</td>\n",
       "      <td>-521.936794</td>\n",
       "      <td>-494.886242</td>\n",
       "      <td>-503.022071</td>\n",
       "      <td>-486.429866</td>\n",
       "      <td>-500.567679</td>\n",
       "      <td>-501.368530</td>\n",
       "      <td>11.761061</td>\n",
       "    </tr>\n",
       "    <tr>\n",
       "      <th>6</th>\n",
       "      <td>28.990554</td>\n",
       "      <td>0.123733</td>\n",
       "      <td>0.056966</td>\n",
       "      <td>0.001264</td>\n",
       "      <td>20</td>\n",
       "      <td>auto</td>\n",
       "      <td>20</td>\n",
       "      <td>True</td>\n",
       "      <td>{'n_estimators': 20, 'max_features': 'auto', '...</td>\n",
       "      <td>-2059.744453</td>\n",
       "      <td>...</td>\n",
       "      <td>-2056.641741</td>\n",
       "      <td>27.046085</td>\n",
       "      <td>10</td>\n",
       "      <td>-1075.533996</td>\n",
       "      <td>-1081.389893</td>\n",
       "      <td>-1086.502399</td>\n",
       "      <td>-1062.292481</td>\n",
       "      <td>-1076.497167</td>\n",
       "      <td>-1076.443187</td>\n",
       "      <td>8.083683</td>\n",
       "    </tr>\n",
       "  </tbody>\n",
       "</table>\n",
       "<p>10 rows × 24 columns</p>\n",
       "</div>"
      ],
      "text/plain": [
       "   mean_fit_time  std_fit_time  mean_score_time  std_score_time  \\\n",
       "7       5.646922      0.048700         0.056565        0.003005   \n",
       "9       5.502612      0.340097         0.027983        0.005017   \n",
       "4      31.545780      0.170957         0.055567        0.006617   \n",
       "0      15.979563      0.114264         0.034579        0.009804   \n",
       "1      16.185035      0.044349         0.123325        0.003977   \n",
       "5      24.156929      0.060167         0.028382        0.003135   \n",
       "3       8.136391      0.063700         0.061963        0.000632   \n",
       "2       5.240572      0.034627         0.062963        0.005326   \n",
       "8      15.756699      0.110102         0.061762        0.002637   \n",
       "6      28.990554      0.123733         0.056966        0.001264   \n",
       "\n",
       "  param_n_estimators param_max_features param_max_depth param_bootstrap  \\\n",
       "7                 40                 10              10            True   \n",
       "9                 20                 20              10            True   \n",
       "4                 40               auto              10            True   \n",
       "0                 20               auto              10            True   \n",
       "1                 40                 10              20           False   \n",
       "5                 20               auto              10           False   \n",
       "3                 20                 10              20           False   \n",
       "2                 20                 10              20            True   \n",
       "8                 20                 20              20           False   \n",
       "6                 20               auto              20            True   \n",
       "\n",
       "                                              params  split0_test_score  ...  \\\n",
       "7  {'n_estimators': 40, 'max_features': 10, 'max_...       -1929.465674  ...   \n",
       "9  {'n_estimators': 20, 'max_features': 20, 'max_...       -1941.244133  ...   \n",
       "4  {'n_estimators': 40, 'max_features': 'auto', '...       -1938.180868  ...   \n",
       "0  {'n_estimators': 20, 'max_features': 'auto', '...       -1943.430367  ...   \n",
       "1  {'n_estimators': 40, 'max_features': 10, 'max_...       -2007.425910  ...   \n",
       "5  {'n_estimators': 20, 'max_features': 'auto', '...       -2034.420596  ...   \n",
       "3  {'n_estimators': 20, 'max_features': 10, 'max_...       -2029.312907  ...   \n",
       "2  {'n_estimators': 20, 'max_features': 10, 'max_...       -2048.603695  ...   \n",
       "8  {'n_estimators': 20, 'max_features': 20, 'max_...       -2038.115569  ...   \n",
       "6  {'n_estimators': 20, 'max_features': 'auto', '...       -2059.744453  ...   \n",
       "\n",
       "   mean_test_score  std_test_score  rank_test_score  split0_train_score  \\\n",
       "7     -1927.054361       22.862382                1        -1677.873531   \n",
       "9     -1934.132448       20.143320                2        -1678.612001   \n",
       "4     -1939.432946       22.422965                3        -1698.563982   \n",
       "0     -1945.408259       24.064220                4        -1707.045780   \n",
       "1     -2004.228719       25.532539                5         -448.991290   \n",
       "5     -2026.159483       32.385501                6        -1701.620072   \n",
       "3     -2027.613558       22.466279                7         -482.536239   \n",
       "2     -2037.394100       28.187789                8         -981.537952   \n",
       "8     -2048.639981       14.629396                9         -521.936794   \n",
       "6     -2056.641741       27.046085               10        -1075.533996   \n",
       "\n",
       "   split1_train_score  split2_train_score  split3_train_score  \\\n",
       "7        -1693.526707        -1692.845756        -1685.713264   \n",
       "9        -1688.813419        -1699.870769        -1684.991972   \n",
       "4        -1706.120805        -1725.025614        -1697.783502   \n",
       "0        -1700.068469        -1738.176579        -1703.300835   \n",
       "1         -443.435414         -448.928357         -432.597661   \n",
       "5        -1733.872389        -1738.821334        -1698.072288   \n",
       "3         -459.515162         -466.016677         -439.394555   \n",
       "2        -1000.084237         -988.186199         -969.036911   \n",
       "8         -494.886242         -503.022071         -486.429866   \n",
       "6        -1081.389893        -1086.502399        -1062.292481   \n",
       "\n",
       "   split4_train_score  mean_train_score  std_train_score  \n",
       "7        -1678.282562      -1685.648364         6.761332  \n",
       "9        -1681.906083      -1686.838849         7.336948  \n",
       "4        -1692.986254      -1704.096032        11.278527  \n",
       "0        -1696.338981      -1708.986129        15.017622  \n",
       "1         -457.757451       -446.342035         8.262876  \n",
       "5        -1709.357895      -1716.348796        16.804345  \n",
       "3         -448.407013       -459.173929        14.831637  \n",
       "2        -1004.039921       -988.577044        12.673077  \n",
       "8         -500.567679       -501.368530        11.761061  \n",
       "6        -1076.497167      -1076.443187         8.083683  \n",
       "\n",
       "[10 rows x 24 columns]"
      ]
     },
     "execution_count": 52,
     "metadata": {},
     "output_type": "execute_result"
    }
   ],
   "source": [
    "pd.DataFrame(randomsearch_result.cv_results_).sort_values('mean_test_score',ascending=False)"
   ]
  },
  {
   "cell_type": "code",
   "execution_count": 53,
   "metadata": {},
   "outputs": [
    {
     "data": {
      "text/plain": [
       "{'n_estimators': 40, 'max_features': 10, 'max_depth': 10, 'bootstrap': True}"
      ]
     },
     "execution_count": 53,
     "metadata": {},
     "output_type": "execute_result"
    }
   ],
   "source": [
    "best_paramters"
   ]
  },
  {
   "cell_type": "code",
   "execution_count": 49,
   "metadata": {},
   "outputs": [],
   "source": [
    "from sklearn.model_selection import cross_val_score\n",
    "rf=RandomForestRegressor(n_estimators=40,max_depth=10,max_features=10)\n",
    "scores=cross_val_score(rf,X_train,y_train,scoring='neg_mean_absolute_error',cv=5)"
   ]
  },
  {
   "cell_type": "code",
   "execution_count": 50,
   "metadata": {},
   "outputs": [],
   "source": [
    "absolute_scores= -scores.mean()"
   ]
  },
  {
   "cell_type": "code",
   "execution_count": 51,
   "metadata": {},
   "outputs": [],
   "source": [
    "## def display_scores(score):\n",
    "   ## print(\"Mean:\", score.mean())\n",
    "   ## print(\"Standard deviation:\", score.std())"
   ]
  },
  {
   "cell_type": "code",
   "execution_count": 52,
   "metadata": {},
   "outputs": [
    {
     "data": {
      "text/plain": [
       "RandomForestRegressor(bootstrap=True, criterion='mse', max_depth=10,\n",
       "           max_features=10, max_leaf_nodes=None, min_impurity_decrease=0.0,\n",
       "           min_impurity_split=None, min_samples_leaf=1,\n",
       "           min_samples_split=2, min_weight_fraction_leaf=0.0,\n",
       "           n_estimators=40, n_jobs=None, oob_score=False,\n",
       "           random_state=None, verbose=0, warm_start=False)"
      ]
     },
     "execution_count": 52,
     "metadata": {},
     "output_type": "execute_result"
    }
   ],
   "source": [
    "rf.fit(X_train,y_train)"
   ]
  },
  {
   "cell_type": "code",
   "execution_count": 53,
   "metadata": {},
   "outputs": [],
   "source": [
    "from sklearn.metrics import mean_absolute_error\n",
    "y_pred=rf.predict(X_test)\n",
    "test_score=mean_absolute_error(y_test,y_pred)"
   ]
  },
  {
   "cell_type": "code",
   "execution_count": 54,
   "metadata": {},
   "outputs": [
    {
     "data": {
      "text/plain": [
       "1939.8991192108533"
      ]
     },
     "execution_count": 54,
     "metadata": {},
     "output_type": "execute_result"
    }
   ],
   "source": [
    "test_score"
   ]
  },
  {
   "cell_type": "code",
   "execution_count": 55,
   "metadata": {},
   "outputs": [
    {
     "data": {
      "text/html": [
       "<div>\n",
       "<style scoped>\n",
       "    .dataframe tbody tr th:only-of-type {\n",
       "        vertical-align: middle;\n",
       "    }\n",
       "\n",
       "    .dataframe tbody tr th {\n",
       "        vertical-align: top;\n",
       "    }\n",
       "\n",
       "    .dataframe thead th {\n",
       "        text-align: right;\n",
       "    }\n",
       "</style>\n",
       "<table border=\"1\" class=\"dataframe\">\n",
       "  <thead>\n",
       "    <tr style=\"text-align: right;\">\n",
       "      <th></th>\n",
       "      <th>actual_train_mae_score</th>\n",
       "      <th>actual_test_mae_score</th>\n",
       "    </tr>\n",
       "  </thead>\n",
       "  <tbody>\n",
       "    <tr>\n",
       "      <th>Mean</th>\n",
       "      <td>1914.381553</td>\n",
       "      <td>1939.899119</td>\n",
       "    </tr>\n",
       "  </tbody>\n",
       "</table>\n",
       "</div>"
      ],
      "text/plain": [
       "      actual_train_mae_score  actual_test_mae_score\n",
       "Mean             1914.381553            1939.899119"
      ]
     },
     "execution_count": 55,
     "metadata": {},
     "output_type": "execute_result"
    }
   ],
   "source": [
    "pd.DataFrame({'actual_train_mae_score':absolute_scores,\n",
    "             'actual_test_mae_score':test_score},index=['Mean'])\n",
    "\n",
    "### reversing the normalizing of target variable"
   ]
  },
  {
   "cell_type": "code",
   "execution_count": 56,
   "metadata": {},
   "outputs": [],
   "source": [
    "df=pd.DataFrame(rf.feature_importances_,pca_data.columns).reset_index()"
   ]
  },
  {
   "cell_type": "code",
   "execution_count": 57,
   "metadata": {},
   "outputs": [],
   "source": [
    "df.columns=['variables','score']"
   ]
  },
  {
   "cell_type": "code",
   "execution_count": 58,
   "metadata": {},
   "outputs": [
    {
     "data": {
      "text/html": [
       "<div>\n",
       "<style scoped>\n",
       "    .dataframe tbody tr th:only-of-type {\n",
       "        vertical-align: middle;\n",
       "    }\n",
       "\n",
       "    .dataframe tbody tr th {\n",
       "        vertical-align: top;\n",
       "    }\n",
       "\n",
       "    .dataframe thead th {\n",
       "        text-align: right;\n",
       "    }\n",
       "</style>\n",
       "<table border=\"1\" class=\"dataframe\">\n",
       "  <thead>\n",
       "    <tr style=\"text-align: right;\">\n",
       "      <th></th>\n",
       "      <th>variables</th>\n",
       "      <th>score</th>\n",
       "    </tr>\n",
       "  </thead>\n",
       "  <tbody>\n",
       "    <tr>\n",
       "      <th>26</th>\n",
       "      <td>kw_avg_avg</td>\n",
       "      <td>0.085130</td>\n",
       "    </tr>\n",
       "    <tr>\n",
       "      <th>25</th>\n",
       "      <td>kw_max_avg</td>\n",
       "      <td>0.065607</td>\n",
       "    </tr>\n",
       "    <tr>\n",
       "      <th>27</th>\n",
       "      <td>self_reference_min_shares</td>\n",
       "      <td>0.044721</td>\n",
       "    </tr>\n",
       "    <tr>\n",
       "      <th>29</th>\n",
       "      <td>self_reference_avg_sharess</td>\n",
       "      <td>0.038312</td>\n",
       "    </tr>\n",
       "    <tr>\n",
       "      <th>24</th>\n",
       "      <td>kw_min_avg</td>\n",
       "      <td>0.031333</td>\n",
       "    </tr>\n",
       "    <tr>\n",
       "      <th>23</th>\n",
       "      <td>kw_avg_max</td>\n",
       "      <td>0.027242</td>\n",
       "    </tr>\n",
       "    <tr>\n",
       "      <th>0</th>\n",
       "      <td>timedelta</td>\n",
       "      <td>0.027127</td>\n",
       "    </tr>\n",
       "    <tr>\n",
       "      <th>10</th>\n",
       "      <td>average_token_length</td>\n",
       "      <td>0.026291</td>\n",
       "    </tr>\n",
       "    <tr>\n",
       "      <th>5</th>\n",
       "      <td>n_non_stop_unique_tokens</td>\n",
       "      <td>0.025862</td>\n",
       "    </tr>\n",
       "    <tr>\n",
       "      <th>41</th>\n",
       "      <td>LDA_03</td>\n",
       "      <td>0.025791</td>\n",
       "    </tr>\n",
       "    <tr>\n",
       "      <th>28</th>\n",
       "      <td>self_reference_max_shares</td>\n",
       "      <td>0.025745</td>\n",
       "    </tr>\n",
       "    <tr>\n",
       "      <th>40</th>\n",
       "      <td>LDA_02</td>\n",
       "      <td>0.025707</td>\n",
       "    </tr>\n",
       "    <tr>\n",
       "      <th>8</th>\n",
       "      <td>num_imgs</td>\n",
       "      <td>0.025278</td>\n",
       "    </tr>\n",
       "    <tr>\n",
       "      <th>20</th>\n",
       "      <td>kw_avg_min</td>\n",
       "      <td>0.025143</td>\n",
       "    </tr>\n",
       "    <tr>\n",
       "      <th>19</th>\n",
       "      <td>kw_max_min</td>\n",
       "      <td>0.024900</td>\n",
       "    </tr>\n",
       "    <tr>\n",
       "      <th>43</th>\n",
       "      <td>global_subjectivity</td>\n",
       "      <td>0.024366</td>\n",
       "    </tr>\n",
       "    <tr>\n",
       "      <th>39</th>\n",
       "      <td>LDA_01</td>\n",
       "      <td>0.024031</td>\n",
       "    </tr>\n",
       "    <tr>\n",
       "      <th>2</th>\n",
       "      <td>n_tokens_content</td>\n",
       "      <td>0.023519</td>\n",
       "    </tr>\n",
       "    <tr>\n",
       "      <th>49</th>\n",
       "      <td>avg_positive_polarity</td>\n",
       "      <td>0.023366</td>\n",
       "    </tr>\n",
       "    <tr>\n",
       "      <th>6</th>\n",
       "      <td>num_hrefs</td>\n",
       "      <td>0.022932</td>\n",
       "    </tr>\n",
       "    <tr>\n",
       "      <th>3</th>\n",
       "      <td>n_unique_tokens</td>\n",
       "      <td>0.022760</td>\n",
       "    </tr>\n",
       "    <tr>\n",
       "      <th>42</th>\n",
       "      <td>LDA_04</td>\n",
       "      <td>0.022343</td>\n",
       "    </tr>\n",
       "    <tr>\n",
       "      <th>44</th>\n",
       "      <td>global_sentiment_polarity</td>\n",
       "      <td>0.021450</td>\n",
       "    </tr>\n",
       "    <tr>\n",
       "      <th>38</th>\n",
       "      <td>LDA_00</td>\n",
       "      <td>0.019859</td>\n",
       "    </tr>\n",
       "    <tr>\n",
       "      <th>46</th>\n",
       "      <td>global_rate_negative_words</td>\n",
       "      <td>0.019368</td>\n",
       "    </tr>\n",
       "    <tr>\n",
       "      <th>52</th>\n",
       "      <td>avg_negative_polarity</td>\n",
       "      <td>0.018756</td>\n",
       "    </tr>\n",
       "    <tr>\n",
       "      <th>45</th>\n",
       "      <td>global_rate_positive_words</td>\n",
       "      <td>0.016204</td>\n",
       "    </tr>\n",
       "    <tr>\n",
       "      <th>47</th>\n",
       "      <td>rate_positive_words</td>\n",
       "      <td>0.015617</td>\n",
       "    </tr>\n",
       "    <tr>\n",
       "      <th>1</th>\n",
       "      <td>n_tokens_title</td>\n",
       "      <td>0.015520</td>\n",
       "    </tr>\n",
       "    <tr>\n",
       "      <th>21</th>\n",
       "      <td>kw_min_max</td>\n",
       "      <td>0.014829</td>\n",
       "    </tr>\n",
       "    <tr>\n",
       "      <th>56</th>\n",
       "      <td>title_sentiment_polarity</td>\n",
       "      <td>0.014590</td>\n",
       "    </tr>\n",
       "    <tr>\n",
       "      <th>54</th>\n",
       "      <td>max_negative_polarity</td>\n",
       "      <td>0.013699</td>\n",
       "    </tr>\n",
       "    <tr>\n",
       "      <th>7</th>\n",
       "      <td>num_self_hrefs</td>\n",
       "      <td>0.013194</td>\n",
       "    </tr>\n",
       "    <tr>\n",
       "      <th>48</th>\n",
       "      <td>rate_negative_words</td>\n",
       "      <td>0.012031</td>\n",
       "    </tr>\n",
       "    <tr>\n",
       "      <th>58</th>\n",
       "      <td>abs_title_sentiment_polarity</td>\n",
       "      <td>0.011325</td>\n",
       "    </tr>\n",
       "    <tr>\n",
       "      <th>55</th>\n",
       "      <td>title_subjectivity</td>\n",
       "      <td>0.009738</td>\n",
       "    </tr>\n",
       "    <tr>\n",
       "      <th>50</th>\n",
       "      <td>min_positive_polarity</td>\n",
       "      <td>0.009472</td>\n",
       "    </tr>\n",
       "    <tr>\n",
       "      <th>53</th>\n",
       "      <td>min_negative_polarity</td>\n",
       "      <td>0.009015</td>\n",
       "    </tr>\n",
       "    <tr>\n",
       "      <th>9</th>\n",
       "      <td>num_videos</td>\n",
       "      <td>0.008710</td>\n",
       "    </tr>\n",
       "    <tr>\n",
       "      <th>11</th>\n",
       "      <td>num_keywords</td>\n",
       "      <td>0.007948</td>\n",
       "    </tr>\n",
       "    <tr>\n",
       "      <th>57</th>\n",
       "      <td>abs_title_subjectivity</td>\n",
       "      <td>0.007196</td>\n",
       "    </tr>\n",
       "    <tr>\n",
       "      <th>51</th>\n",
       "      <td>max_positive_polarity</td>\n",
       "      <td>0.006499</td>\n",
       "    </tr>\n",
       "    <tr>\n",
       "      <th>37</th>\n",
       "      <td>is_weekend</td>\n",
       "      <td>0.006225</td>\n",
       "    </tr>\n",
       "    <tr>\n",
       "      <th>22</th>\n",
       "      <td>kw_max_max</td>\n",
       "      <td>0.004746</td>\n",
       "    </tr>\n",
       "    <tr>\n",
       "      <th>17</th>\n",
       "      <td>data_channel_is_world</td>\n",
       "      <td>0.004491</td>\n",
       "    </tr>\n",
       "    <tr>\n",
       "      <th>16</th>\n",
       "      <td>data_channel_is_tech</td>\n",
       "      <td>0.003930</td>\n",
       "    </tr>\n",
       "    <tr>\n",
       "      <th>18</th>\n",
       "      <td>kw_min_min</td>\n",
       "      <td>0.003720</td>\n",
       "    </tr>\n",
       "    <tr>\n",
       "      <th>13</th>\n",
       "      <td>data_channel_is_entertainment</td>\n",
       "      <td>0.003522</td>\n",
       "    </tr>\n",
       "    <tr>\n",
       "      <th>35</th>\n",
       "      <td>weekday_is_saturday</td>\n",
       "      <td>0.002837</td>\n",
       "    </tr>\n",
       "    <tr>\n",
       "      <th>36</th>\n",
       "      <td>weekday_is_sunday</td>\n",
       "      <td>0.002753</td>\n",
       "    </tr>\n",
       "    <tr>\n",
       "      <th>30</th>\n",
       "      <td>weekday_is_monday</td>\n",
       "      <td>0.002700</td>\n",
       "    </tr>\n",
       "    <tr>\n",
       "      <th>15</th>\n",
       "      <td>data_channel_is_socmed</td>\n",
       "      <td>0.002587</td>\n",
       "    </tr>\n",
       "    <tr>\n",
       "      <th>31</th>\n",
       "      <td>weekday_is_tuesday</td>\n",
       "      <td>0.001814</td>\n",
       "    </tr>\n",
       "    <tr>\n",
       "      <th>12</th>\n",
       "      <td>data_channel_is_lifestyle</td>\n",
       "      <td>0.001810</td>\n",
       "    </tr>\n",
       "    <tr>\n",
       "      <th>33</th>\n",
       "      <td>weekday_is_thursday</td>\n",
       "      <td>0.001691</td>\n",
       "    </tr>\n",
       "    <tr>\n",
       "      <th>14</th>\n",
       "      <td>data_channel_is_bus</td>\n",
       "      <td>0.001657</td>\n",
       "    </tr>\n",
       "    <tr>\n",
       "      <th>34</th>\n",
       "      <td>weekday_is_friday</td>\n",
       "      <td>0.001484</td>\n",
       "    </tr>\n",
       "    <tr>\n",
       "      <th>32</th>\n",
       "      <td>weekday_is_wednesday</td>\n",
       "      <td>0.001181</td>\n",
       "    </tr>\n",
       "    <tr>\n",
       "      <th>4</th>\n",
       "      <td>n_non_stop_words</td>\n",
       "      <td>0.000324</td>\n",
       "    </tr>\n",
       "  </tbody>\n",
       "</table>\n",
       "</div>"
      ],
      "text/plain": [
       "                         variables     score\n",
       "26                      kw_avg_avg  0.085130\n",
       "25                      kw_max_avg  0.065607\n",
       "27       self_reference_min_shares  0.044721\n",
       "29      self_reference_avg_sharess  0.038312\n",
       "24                      kw_min_avg  0.031333\n",
       "23                      kw_avg_max  0.027242\n",
       "0                        timedelta  0.027127\n",
       "10            average_token_length  0.026291\n",
       "5         n_non_stop_unique_tokens  0.025862\n",
       "41                          LDA_03  0.025791\n",
       "28       self_reference_max_shares  0.025745\n",
       "40                          LDA_02  0.025707\n",
       "8                         num_imgs  0.025278\n",
       "20                      kw_avg_min  0.025143\n",
       "19                      kw_max_min  0.024900\n",
       "43             global_subjectivity  0.024366\n",
       "39                          LDA_01  0.024031\n",
       "2                 n_tokens_content  0.023519\n",
       "49           avg_positive_polarity  0.023366\n",
       "6                        num_hrefs  0.022932\n",
       "3                  n_unique_tokens  0.022760\n",
       "42                          LDA_04  0.022343\n",
       "44       global_sentiment_polarity  0.021450\n",
       "38                          LDA_00  0.019859\n",
       "46      global_rate_negative_words  0.019368\n",
       "52           avg_negative_polarity  0.018756\n",
       "45      global_rate_positive_words  0.016204\n",
       "47             rate_positive_words  0.015617\n",
       "1                   n_tokens_title  0.015520\n",
       "21                      kw_min_max  0.014829\n",
       "56        title_sentiment_polarity  0.014590\n",
       "54           max_negative_polarity  0.013699\n",
       "7                   num_self_hrefs  0.013194\n",
       "48             rate_negative_words  0.012031\n",
       "58    abs_title_sentiment_polarity  0.011325\n",
       "55              title_subjectivity  0.009738\n",
       "50           min_positive_polarity  0.009472\n",
       "53           min_negative_polarity  0.009015\n",
       "9                       num_videos  0.008710\n",
       "11                    num_keywords  0.007948\n",
       "57          abs_title_subjectivity  0.007196\n",
       "51           max_positive_polarity  0.006499\n",
       "37                      is_weekend  0.006225\n",
       "22                      kw_max_max  0.004746\n",
       "17           data_channel_is_world  0.004491\n",
       "16            data_channel_is_tech  0.003930\n",
       "18                      kw_min_min  0.003720\n",
       "13   data_channel_is_entertainment  0.003522\n",
       "35             weekday_is_saturday  0.002837\n",
       "36               weekday_is_sunday  0.002753\n",
       "30               weekday_is_monday  0.002700\n",
       "15          data_channel_is_socmed  0.002587\n",
       "31              weekday_is_tuesday  0.001814\n",
       "12       data_channel_is_lifestyle  0.001810\n",
       "33             weekday_is_thursday  0.001691\n",
       "14             data_channel_is_bus  0.001657\n",
       "34               weekday_is_friday  0.001484\n",
       "32            weekday_is_wednesday  0.001181\n",
       "4                 n_non_stop_words  0.000324"
      ]
     },
     "execution_count": 58,
     "metadata": {},
     "output_type": "execute_result"
    }
   ],
   "source": [
    "df.sort_values('score',ascending=False)"
   ]
  },
  {
   "cell_type": "code",
   "execution_count": 59,
   "metadata": {},
   "outputs": [
    {
     "data": {
      "image/png": "[encoded data removed]",
      "text/plain": [
       "<Figure size 1080x1080 with 1 Axes>"
      ]
     },
     "metadata": {
      "needs_background": "light"
     },
     "output_type": "display_data"
    }
   ],
   "source": [
    "fig=plt.figure(figsize=(15,15))\n",
    "ax=fig.gca()\n",
    "plt.bar(x=df.variables,height=df.score)\n",
    "plt.xticks(rotation=90)\n",
    "plt.show()"
   ]
  },
  {
   "cell_type": "markdown",
   "metadata": {},
   "source": [
    "__1(b).   RandomForest.PCA__"
   ]
  },
  {
   "cell_type": "code",
   "execution_count": 60,
   "metadata": {},
   "outputs": [],
   "source": [
    "pca_final_data=principal_comp[[0,1]]"
   ]
  },
  {
   "cell_type": "code",
   "execution_count": 142,
   "metadata": {},
   "outputs": [],
   "source": [
    "X_train_pca,X_test_pca,y_train_pca,y_test_pca=train_test_split(pca_final_data,y,test_size=0.2,random_state=23)"
   ]
  },
  {
   "cell_type": "code",
   "execution_count": 62,
   "metadata": {},
   "outputs": [],
   "source": [
    "param_grid_pca= {'n_estimators':[20,40],\n",
    "            'max_depth':[10,20],\n",
    "             'bootstrap':[True,False],             \n",
    "            }"
   ]
  },
  {
   "cell_type": "code",
   "execution_count": 68,
   "metadata": {},
   "outputs": [
    {
     "name": "stderr",
     "output_type": "stream",
     "text": [
      "C:\\Users\\ACER M5\\Anaconda3\\lib\\site-packages\\sklearn\\model_selection\\_search.py:271: UserWarning: The total space of parameters 8 is smaller than n_iter=10. Running 8 iterations. For exhaustive searches, use GridSearchCV.\n",
      "  % (grid_size, self.n_iter, grid_size), UserWarning)\n",
      "[Parallel(n_jobs=-1)]: Using backend LokyBackend with 4 concurrent workers.\n"
     ]
    },
    {
     "name": "stdout",
     "output_type": "stream",
     "text": [
      "Fitting 5 folds for each of 8 candidates, totalling 40 fits\n"
     ]
    },
    {
     "name": "stderr",
     "output_type": "stream",
     "text": [
      "[Parallel(n_jobs=-1)]: Done  40 out of  40 | elapsed:   52.3s finished\n"
     ]
    }
   ],
   "source": [
    "random_search_pca= RandomizedSearchCV(RandomForestRegressor(),param_distributions=param_grid_pca,\n",
    "                                  cv=5,scoring='neg_mean_absolute_error',\n",
    "                                  verbose=1,n_jobs=-1)\n",
    "randomsearch_result_pca=random_search_pca.fit(X_train_pca,y_train_pca)\n",
    "best_paramters_pca= randomsearch_result_pca.best_params_"
   ]
  },
  {
   "cell_type": "code",
   "execution_count": 1,
   "metadata": {},
   "outputs": [
    {
     "ename": "NameError",
     "evalue": "name 'pd' is not defined",
     "output_type": "error",
     "traceback": [
      "\u001b[1;31m---------------------------------------------------------------------------\u001b[0m",
      "\u001b[1;31mNameError\u001b[0m                                 Traceback (most recent call last)",
      "\u001b[1;32m<ipython-input-1-8f2479cf6f8b>\u001b[0m in \u001b[0;36m<module>\u001b[1;34m\u001b[0m\n\u001b[1;32m----> 1\u001b[1;33m \u001b[0mpd\u001b[0m\u001b[1;33m.\u001b[0m\u001b[0mDataFrame\u001b[0m\u001b[1;33m(\u001b[0m\u001b[0mrandomsearch_result_pca\u001b[0m\u001b[1;33m.\u001b[0m\u001b[0mcv_results_\u001b[0m\u001b[1;33m)\u001b[0m\u001b[1;33m.\u001b[0m\u001b[0msort_values\u001b[0m\u001b[1;33m(\u001b[0m\u001b[1;34m'mean_test_score'\u001b[0m\u001b[1;33m,\u001b[0m\u001b[0mascending\u001b[0m\u001b[1;33m=\u001b[0m\u001b[1;32mFalse\u001b[0m\u001b[1;33m)\u001b[0m\u001b[1;33m\u001b[0m\u001b[1;33m\u001b[0m\u001b[0m\n\u001b[0m",
      "\u001b[1;31mNameError\u001b[0m: name 'pd' is not defined"
     ]
    }
   ],
   "source": [
    "pd.DataFrame(randomsearch_result_pca.cv_results_).sort_values('mean_test_score',ascending=False)"
   ]
  },
  {
   "cell_type": "code",
   "execution_count": null,
   "metadata": {},
   "outputs": [
    {
     "data": {
      "text/plain": [
       "{'n_estimators': 20, 'max_depth': 10, 'bootstrap': True}"
      ]
     },
     "execution_count": 70,
     "metadata": {},
     "output_type": "execute_result"
    }
   ],
   "source": [
    "best_paramters_pca"
   ]
  },
  {
   "cell_type": "code",
   "execution_count": 63,
   "metadata": {},
   "outputs": [],
   "source": [
    "rf_pca=RandomForestRegressor(n_estimators=20,max_depth=10)"
   ]
  },
  {
   "cell_type": "code",
   "execution_count": 64,
   "metadata": {},
   "outputs": [],
   "source": [
    "scores_1=cross_val_score(rf_pca,X_train_pca,y_train_pca,scoring='neg_mean_absolute_error',cv=10)"
   ]
  },
  {
   "cell_type": "code",
   "execution_count": 65,
   "metadata": {},
   "outputs": [],
   "source": [
    "absolute_scores_1=-scores_1.mean()"
   ]
  },
  {
   "cell_type": "code",
   "execution_count": 66,
   "metadata": {},
   "outputs": [
    {
     "data": {
      "text/plain": [
       "RandomForestRegressor(bootstrap=True, criterion='mse', max_depth=10,\n",
       "           max_features='auto', max_leaf_nodes=None,\n",
       "           min_impurity_decrease=0.0, min_impurity_split=None,\n",
       "           min_samples_leaf=1, min_samples_split=2,\n",
       "           min_weight_fraction_leaf=0.0, n_estimators=20, n_jobs=None,\n",
       "           oob_score=False, random_state=None, verbose=0, warm_start=False)"
      ]
     },
     "execution_count": 66,
     "metadata": {},
     "output_type": "execute_result"
    }
   ],
   "source": [
    "\n",
    "rf_pca.fit(X_train_pca,y_train_pca)"
   ]
  },
  {
   "cell_type": "code",
   "execution_count": 67,
   "metadata": {},
   "outputs": [],
   "source": [
    "y_predict_pca= rf_pca.predict(X_test_pca)\n",
    "test_score_pca= mean_absolute_error(y_test_pca,y_predict_pca)"
   ]
  },
  {
   "cell_type": "code",
   "execution_count": 68,
   "metadata": {},
   "outputs": [
    {
     "data": {
      "text/html": [
       "<div>\n",
       "<style scoped>\n",
       "    .dataframe tbody tr th:only-of-type {\n",
       "        vertical-align: middle;\n",
       "    }\n",
       "\n",
       "    .dataframe tbody tr th {\n",
       "        vertical-align: top;\n",
       "    }\n",
       "\n",
       "    .dataframe thead th {\n",
       "        text-align: right;\n",
       "    }\n",
       "</style>\n",
       "<table border=\"1\" class=\"dataframe\">\n",
       "  <thead>\n",
       "    <tr style=\"text-align: right;\">\n",
       "      <th></th>\n",
       "      <th>train_mse_score</th>\n",
       "      <th>test_mse_score</th>\n",
       "    </tr>\n",
       "  </thead>\n",
       "  <tbody>\n",
       "    <tr>\n",
       "      <th>Mean</th>\n",
       "      <td>2037.953528</td>\n",
       "      <td>2076.84722</td>\n",
       "    </tr>\n",
       "  </tbody>\n",
       "</table>\n",
       "</div>"
      ],
      "text/plain": [
       "      train_mse_score  test_mse_score\n",
       "Mean      2037.953528      2076.84722"
      ]
     },
     "execution_count": 68,
     "metadata": {},
     "output_type": "execute_result"
    }
   ],
   "source": [
    "pd.DataFrame({'train_mse_score':[absolute_scores_1],\n",
    "             'test_mse_score':[test_score_pca]},index=['Mean'])"
   ]
  },
  {
   "cell_type": "markdown",
   "metadata": {},
   "source": [
    "__1(d). Learning Curves__"
   ]
  },
  {
   "cell_type": "code",
   "execution_count": 69,
   "metadata": {},
   "outputs": [
    {
     "data": {
      "text/plain": [
       "31340"
      ]
     },
     "execution_count": 69,
     "metadata": {},
     "output_type": "execute_result"
    }
   ],
   "source": [
    "X_train.shape[0]"
   ]
  },
  {
   "cell_type": "code",
   "execution_count": 206,
   "metadata": {},
   "outputs": [],
   "source": [
    "train_sizes=[500,800,1000,1250,2500,5000,10000,12000,16000,18000,20000,22000]"
   ]
  },
  {
   "cell_type": "code",
   "execution_count": 73,
   "metadata": {},
   "outputs": [],
   "source": [
    "from sklearn.model_selection import learning_curve\n",
    "train_sizes,train_scores,validation_scores= learning_curve(rf,X=X_train,y=y_train,train_sizes=train_sizes,\n",
    "                                             cv=3,scoring='neg_mean_absolute_error')"
   ]
  },
  {
   "cell_type": "code",
   "execution_count": 74,
   "metadata": {},
   "outputs": [],
   "source": [
    "train_scores_mean= -train_scores.mean(axis=1)\n",
    "validation_scores_mean=-validation_scores.mean(axis=1)"
   ]
  },
  {
   "cell_type": "code",
   "execution_count": 75,
   "metadata": {},
   "outputs": [
    {
     "data": {
      "text/plain": [
       "<matplotlib.legend.Legend at 0x2323c6e19b0>"
      ]
     },
     "execution_count": 75,
     "metadata": {},
     "output_type": "execute_result"
    },
    {
     "data": {
      "image/png": "[encoded data removed]",
      "text/plain": [
       "<Figure size 432x288 with 1 Axes>"
      ]
     },
     "metadata": {
      "needs_background": "light"
     },
     "output_type": "display_data"
    }
   ],
   "source": [
    "plt.plot(train_sizes, train_scores_mean, label = 'Training error')\n",
    "plt.plot(train_sizes, validation_scores_mean, label = 'Validation error')\n",
    "plt.ylabel('MAE', fontsize = 14)\n",
    "plt.xlabel('Training set size', fontsize = 14)\n",
    "plt.title('Learning curves for a random forest regression model', fontsize = 18, y = 1.03)\n",
    "plt.legend()"
   ]
  },
  {
   "cell_type": "code",
   "execution_count": 76,
   "metadata": {},
   "outputs": [],
   "source": [
    "train_sizes,train_scores_pca,validation_scores_pca= learning_curve(rf_pca,X=X_train_pca,y=y_train_pca,train_sizes=train_sizes,\n",
    "                                             cv=3,scoring='neg_mean_absolute_error')"
   ]
  },
  {
   "cell_type": "code",
   "execution_count": 77,
   "metadata": {},
   "outputs": [],
   "source": [
    "train_scores_mean_pca= -train_scores_pca.mean(axis=1)\n",
    "validation_scores_mean_pca=-validation_scores_pca.mean(axis=1)"
   ]
  },
  {
   "cell_type": "code",
   "execution_count": 78,
   "metadata": {},
   "outputs": [
    {
     "data": {
      "text/plain": [
       "<matplotlib.legend.Legend at 0x2323ca3cd68>"
      ]
     },
     "execution_count": 78,
     "metadata": {},
     "output_type": "execute_result"
    },
    {
     "data": {
      "image/png": "[encoded data removed]",
      "text/plain": [
       "<Figure size 432x288 with 1 Axes>"
      ]
     },
     "metadata": {
      "needs_background": "light"
     },
     "output_type": "display_data"
    }
   ],
   "source": [
    "plt.plot(train_sizes, train_scores_mean_pca, label = 'Training error PCA')\n",
    "plt.plot(train_sizes, validation_scores_mean_pca, label = 'Validation error PCA')\n",
    "plt.ylabel('MAE', fontsize = 14)\n",
    "plt.xlabel('Training set size', fontsize = 14)\n",
    "plt.title('Learning curves for a random forest regression model', fontsize = 18, y = 1.03)\n",
    "plt.legend()"
   ]
  },
  {
   "cell_type": "markdown",
   "metadata": {},
   "source": [
    "One solution at this point is to change to a more complex learning algorithm. This should decrease the bias and increase the variance. A mistake would be to try to increase the number of training instances. Generally, these other two fixes also work when dealing with a high bias and low variance problem:\n",
    "\n",
    "__1. Training the current learning algorithm on more features (to avoid collecting new data, you can generate easily polynomial features). This should lower the bias by increasing the model’s complexity.__\n",
    "\n",
    "__2. Decreasing the regularization of the current learning algorithm, if that’s the case. In a nutshell, regularization prevents the algorithm from fitting the training data too well. If we decrease regularization, the model will fit training data better, and, as a consequence, the variance will increase and the bias will decrease.__"
   ]
  },
  {
   "cell_type": "markdown",
   "metadata": {},
   "source": [
    "### Comparison:\n",
    "\n",
    "1. PCA Model has less variance but more bias------Solution: Train on more features increasing the complexity of model and decreasing the regularization of model.Meaning allowing it to overfit.\n",
    "\n",
    "\n",
    "\n",
    "2. Normal Model has less bias (as compared to PCA but more than a random forest should have) and more variance."
   ]
  },
  {
   "cell_type": "markdown",
   "metadata": {},
   "source": [
    "#### Since it is a bagging method it has less variance. Now we can use boosting to get less bias."
   ]
  },
  {
   "cell_type": "markdown",
   "metadata": {},
   "source": [
    "### 2. Gradient Boosting"
   ]
  },
  {
   "cell_type": "code",
   "execution_count": 79,
   "metadata": {},
   "outputs": [],
   "source": [
    "from sklearn.ensemble import GradientBoostingRegressor"
   ]
  },
  {
   "cell_type": "code",
   "execution_count": 80,
   "metadata": {},
   "outputs": [],
   "source": [
    "param_gradboost={'n_estimators':[100,150],\n",
    "                'max_depth':[5,10],\n",
    "                'learning_rate':[0.1,0.2]}"
   ]
  },
  {
   "cell_type": "code",
   "execution_count": 146,
   "metadata": {},
   "outputs": [],
   "source": [
    "pca_data_gbr= principal_comp[[0,1,2,3,4,5,6,7,8,9,10,11,12,13,14]]\n",
    "X_train_gbr,X_test_gbr,y_train_gbr,y_test_gbr=train_test_split(pca_data_gbr,y,test_size=0.2,random_state=23)"
   ]
  },
  {
   "cell_type": "code",
   "execution_count": 166,
   "metadata": {},
   "outputs": [
    {
     "name": "stderr",
     "output_type": "stream",
     "text": [
      "C:\\Users\\ACER M5\\Anaconda3\\lib\\site-packages\\sklearn\\model_selection\\_search.py:271: UserWarning: The total space of parameters 8 is smaller than n_iter=10. Running 8 iterations. For exhaustive searches, use GridSearchCV.\n",
      "  % (grid_size, self.n_iter, grid_size), UserWarning)\n",
      "[Parallel(n_jobs=-1)]: Using backend LokyBackend with 4 concurrent workers.\n"
     ]
    },
    {
     "name": "stdout",
     "output_type": "stream",
     "text": [
      "Fitting 3 folds for each of 8 candidates, totalling 24 fits\n"
     ]
    },
    {
     "name": "stderr",
     "output_type": "stream",
     "text": [
      "[Parallel(n_jobs=-1)]: Done  24 out of  24 | elapsed:  3.7min finished\n"
     ]
    }
   ],
   "source": [
    "grad_randomsearch= RandomizedSearchCV(GradientBoostingRegressor(),param_distributions=param_gradboost,cv=3,\n",
    "                                      scoring='neg_mean_absolute_error',n_jobs=-1,verbose=1)\n",
    "grad_fit=grad_randomsearch.fit(X_train_gbr,y_train_gbr)\n",
    "best_param_grad= grad_fit.best_params_"
   ]
  },
  {
   "cell_type": "code",
   "execution_count": 167,
   "metadata": {},
   "outputs": [
    {
     "name": "stderr",
     "output_type": "stream",
     "text": [
      "C:\\Users\\ACER M5\\Anaconda3\\lib\\site-packages\\sklearn\\utils\\deprecation.py:125: FutureWarning: You are accessing a training score ('split0_train_score'), which will not be available by default any more in 0.21. If you need training scores, please set return_train_score=True\n",
      "  warnings.warn(*warn_args, **warn_kwargs)\n",
      "C:\\Users\\ACER M5\\Anaconda3\\lib\\site-packages\\sklearn\\utils\\deprecation.py:125: FutureWarning: You are accessing a training score ('split1_train_score'), which will not be available by default any more in 0.21. If you need training scores, please set return_train_score=True\n",
      "  warnings.warn(*warn_args, **warn_kwargs)\n",
      "C:\\Users\\ACER M5\\Anaconda3\\lib\\site-packages\\sklearn\\utils\\deprecation.py:125: FutureWarning: You are accessing a training score ('split2_train_score'), which will not be available by default any more in 0.21. If you need training scores, please set return_train_score=True\n",
      "  warnings.warn(*warn_args, **warn_kwargs)\n",
      "C:\\Users\\ACER M5\\Anaconda3\\lib\\site-packages\\sklearn\\utils\\deprecation.py:125: FutureWarning: You are accessing a training score ('mean_train_score'), which will not be available by default any more in 0.21. If you need training scores, please set return_train_score=True\n",
      "  warnings.warn(*warn_args, **warn_kwargs)\n",
      "C:\\Users\\ACER M5\\Anaconda3\\lib\\site-packages\\sklearn\\utils\\deprecation.py:125: FutureWarning: You are accessing a training score ('std_train_score'), which will not be available by default any more in 0.21. If you need training scores, please set return_train_score=True\n",
      "  warnings.warn(*warn_args, **warn_kwargs)\n"
     ]
    },
    {
     "data": {
      "text/html": [
       "<div>\n",
       "<style scoped>\n",
       "    .dataframe tbody tr th:only-of-type {\n",
       "        vertical-align: middle;\n",
       "    }\n",
       "\n",
       "    .dataframe tbody tr th {\n",
       "        vertical-align: top;\n",
       "    }\n",
       "\n",
       "    .dataframe thead th {\n",
       "        text-align: right;\n",
       "    }\n",
       "</style>\n",
       "<table border=\"1\" class=\"dataframe\">\n",
       "  <thead>\n",
       "    <tr style=\"text-align: right;\">\n",
       "      <th></th>\n",
       "      <th>mean_fit_time</th>\n",
       "      <th>std_fit_time</th>\n",
       "      <th>mean_score_time</th>\n",
       "      <th>std_score_time</th>\n",
       "      <th>param_n_estimators</th>\n",
       "      <th>param_max_depth</th>\n",
       "      <th>param_learning_rate</th>\n",
       "      <th>params</th>\n",
       "      <th>split0_test_score</th>\n",
       "      <th>split1_test_score</th>\n",
       "      <th>split2_test_score</th>\n",
       "      <th>mean_test_score</th>\n",
       "      <th>std_test_score</th>\n",
       "      <th>rank_test_score</th>\n",
       "      <th>split0_train_score</th>\n",
       "      <th>split1_train_score</th>\n",
       "      <th>split2_train_score</th>\n",
       "      <th>mean_train_score</th>\n",
       "      <th>std_train_score</th>\n",
       "    </tr>\n",
       "  </thead>\n",
       "  <tbody>\n",
       "    <tr>\n",
       "      <th>0</th>\n",
       "      <td>10.391538</td>\n",
       "      <td>0.159412</td>\n",
       "      <td>0.034366</td>\n",
       "      <td>0.001705</td>\n",
       "      <td>50</td>\n",
       "      <td>5</td>\n",
       "      <td>0.1</td>\n",
       "      <td>{'n_estimators': 50, 'max_depth': 5, 'learning...</td>\n",
       "      <td>-1953.574483</td>\n",
       "      <td>-1919.702584</td>\n",
       "      <td>-1933.616487</td>\n",
       "      <td>-1935.631249</td>\n",
       "      <td>13.901551</td>\n",
       "      <td>1</td>\n",
       "      <td>-1793.111184</td>\n",
       "      <td>-1832.727385</td>\n",
       "      <td>-1797.115640</td>\n",
       "      <td>-1807.651403</td>\n",
       "      <td>17.806601</td>\n",
       "    </tr>\n",
       "    <tr>\n",
       "      <th>1</th>\n",
       "      <td>23.423907</td>\n",
       "      <td>1.262259</td>\n",
       "      <td>0.064600</td>\n",
       "      <td>0.002459</td>\n",
       "      <td>100</td>\n",
       "      <td>5</td>\n",
       "      <td>0.1</td>\n",
       "      <td>{'n_estimators': 100, 'max_depth': 5, 'learnin...</td>\n",
       "      <td>-1958.515310</td>\n",
       "      <td>-1933.623252</td>\n",
       "      <td>-1935.725277</td>\n",
       "      <td>-1942.621500</td>\n",
       "      <td>11.271604</td>\n",
       "      <td>2</td>\n",
       "      <td>-1727.805193</td>\n",
       "      <td>-1763.998618</td>\n",
       "      <td>-1730.969217</td>\n",
       "      <td>-1740.924343</td>\n",
       "      <td>16.367028</td>\n",
       "    </tr>\n",
       "    <tr>\n",
       "      <th>2</th>\n",
       "      <td>39.150215</td>\n",
       "      <td>1.202425</td>\n",
       "      <td>0.084578</td>\n",
       "      <td>0.003438</td>\n",
       "      <td>50</td>\n",
       "      <td>10</td>\n",
       "      <td>0.1</td>\n",
       "      <td>{'n_estimators': 50, 'max_depth': 10, 'learnin...</td>\n",
       "      <td>-1998.116363</td>\n",
       "      <td>-1991.712304</td>\n",
       "      <td>-1992.432999</td>\n",
       "      <td>-1994.087275</td>\n",
       "      <td>2.864215</td>\n",
       "      <td>5</td>\n",
       "      <td>-1276.787587</td>\n",
       "      <td>-1293.015226</td>\n",
       "      <td>-1238.277723</td>\n",
       "      <td>-1269.360179</td>\n",
       "      <td>22.955368</td>\n",
       "    </tr>\n",
       "    <tr>\n",
       "      <th>3</th>\n",
       "      <td>68.245814</td>\n",
       "      <td>0.664148</td>\n",
       "      <td>0.153211</td>\n",
       "      <td>0.014157</td>\n",
       "      <td>100</td>\n",
       "      <td>10</td>\n",
       "      <td>0.1</td>\n",
       "      <td>{'n_estimators': 100, 'max_depth': 10, 'learni...</td>\n",
       "      <td>-2017.486030</td>\n",
       "      <td>-2013.533565</td>\n",
       "      <td>-2016.302244</td>\n",
       "      <td>-2015.773930</td>\n",
       "      <td>1.656288</td>\n",
       "      <td>6</td>\n",
       "      <td>-1062.667879</td>\n",
       "      <td>-1060.950255</td>\n",
       "      <td>-1010.151801</td>\n",
       "      <td>-1044.589978</td>\n",
       "      <td>24.361562</td>\n",
       "    </tr>\n",
       "    <tr>\n",
       "      <th>4</th>\n",
       "      <td>11.314473</td>\n",
       "      <td>0.175591</td>\n",
       "      <td>0.033331</td>\n",
       "      <td>0.003287</td>\n",
       "      <td>50</td>\n",
       "      <td>5</td>\n",
       "      <td>0.2</td>\n",
       "      <td>{'n_estimators': 50, 'max_depth': 5, 'learning...</td>\n",
       "      <td>-1966.894916</td>\n",
       "      <td>-1934.953939</td>\n",
       "      <td>-1949.583048</td>\n",
       "      <td>-1950.477330</td>\n",
       "      <td>13.055379</td>\n",
       "      <td>3</td>\n",
       "      <td>-1728.815051</td>\n",
       "      <td>-1761.732141</td>\n",
       "      <td>-1729.908581</td>\n",
       "      <td>-1740.151924</td>\n",
       "      <td>15.266047</td>\n",
       "    </tr>\n",
       "    <tr>\n",
       "      <th>5</th>\n",
       "      <td>20.880142</td>\n",
       "      <td>0.088711</td>\n",
       "      <td>0.057481</td>\n",
       "      <td>0.006018</td>\n",
       "      <td>100</td>\n",
       "      <td>5</td>\n",
       "      <td>0.2</td>\n",
       "      <td>{'n_estimators': 100, 'max_depth': 5, 'learnin...</td>\n",
       "      <td>-1978.971037</td>\n",
       "      <td>-1959.172080</td>\n",
       "      <td>-1966.068702</td>\n",
       "      <td>-1968.070670</td>\n",
       "      <td>8.206031</td>\n",
       "      <td>4</td>\n",
       "      <td>-1605.017025</td>\n",
       "      <td>-1635.188623</td>\n",
       "      <td>-1611.821480</td>\n",
       "      <td>-1617.342376</td>\n",
       "      <td>12.921340</td>\n",
       "    </tr>\n",
       "    <tr>\n",
       "      <th>6</th>\n",
       "      <td>29.466141</td>\n",
       "      <td>0.097441</td>\n",
       "      <td>0.064293</td>\n",
       "      <td>0.004024</td>\n",
       "      <td>50</td>\n",
       "      <td>10</td>\n",
       "      <td>0.2</td>\n",
       "      <td>{'n_estimators': 50, 'max_depth': 10, 'learnin...</td>\n",
       "      <td>-2047.389663</td>\n",
       "      <td>-2034.432765</td>\n",
       "      <td>-2047.177933</td>\n",
       "      <td>-2042.999987</td>\n",
       "      <td>6.058702</td>\n",
       "      <td>7</td>\n",
       "      <td>-1063.572646</td>\n",
       "      <td>-1070.687852</td>\n",
       "      <td>-1023.308572</td>\n",
       "      <td>-1052.523023</td>\n",
       "      <td>20.860963</td>\n",
       "    </tr>\n",
       "    <tr>\n",
       "      <th>7</th>\n",
       "      <td>61.932256</td>\n",
       "      <td>1.003868</td>\n",
       "      <td>0.118062</td>\n",
       "      <td>0.023686</td>\n",
       "      <td>100</td>\n",
       "      <td>10</td>\n",
       "      <td>0.2</td>\n",
       "      <td>{'n_estimators': 100, 'max_depth': 10, 'learni...</td>\n",
       "      <td>-2086.844568</td>\n",
       "      <td>-2081.312533</td>\n",
       "      <td>-2087.059588</td>\n",
       "      <td>-2085.072167</td>\n",
       "      <td>2.659975</td>\n",
       "      <td>8</td>\n",
       "      <td>-732.813850</td>\n",
       "      <td>-725.721342</td>\n",
       "      <td>-678.909770</td>\n",
       "      <td>-712.481654</td>\n",
       "      <td>23.914842</td>\n",
       "    </tr>\n",
       "  </tbody>\n",
       "</table>\n",
       "</div>"
      ],
      "text/plain": [
       "   mean_fit_time  std_fit_time  mean_score_time  std_score_time  \\\n",
       "0      10.391538      0.159412         0.034366        0.001705   \n",
       "1      23.423907      1.262259         0.064600        0.002459   \n",
       "2      39.150215      1.202425         0.084578        0.003438   \n",
       "3      68.245814      0.664148         0.153211        0.014157   \n",
       "4      11.314473      0.175591         0.033331        0.003287   \n",
       "5      20.880142      0.088711         0.057481        0.006018   \n",
       "6      29.466141      0.097441         0.064293        0.004024   \n",
       "7      61.932256      1.003868         0.118062        0.023686   \n",
       "\n",
       "  param_n_estimators param_max_depth param_learning_rate  \\\n",
       "0                 50               5                 0.1   \n",
       "1                100               5                 0.1   \n",
       "2                 50              10                 0.1   \n",
       "3                100              10                 0.1   \n",
       "4                 50               5                 0.2   \n",
       "5                100               5                 0.2   \n",
       "6                 50              10                 0.2   \n",
       "7                100              10                 0.2   \n",
       "\n",
       "                                              params  split0_test_score  \\\n",
       "0  {'n_estimators': 50, 'max_depth': 5, 'learning...       -1953.574483   \n",
       "1  {'n_estimators': 100, 'max_depth': 5, 'learnin...       -1958.515310   \n",
       "2  {'n_estimators': 50, 'max_depth': 10, 'learnin...       -1998.116363   \n",
       "3  {'n_estimators': 100, 'max_depth': 10, 'learni...       -2017.486030   \n",
       "4  {'n_estimators': 50, 'max_depth': 5, 'learning...       -1966.894916   \n",
       "5  {'n_estimators': 100, 'max_depth': 5, 'learnin...       -1978.971037   \n",
       "6  {'n_estimators': 50, 'max_depth': 10, 'learnin...       -2047.389663   \n",
       "7  {'n_estimators': 100, 'max_depth': 10, 'learni...       -2086.844568   \n",
       "\n",
       "   split1_test_score  split2_test_score  mean_test_score  std_test_score  \\\n",
       "0       -1919.702584       -1933.616487     -1935.631249       13.901551   \n",
       "1       -1933.623252       -1935.725277     -1942.621500       11.271604   \n",
       "2       -1991.712304       -1992.432999     -1994.087275        2.864215   \n",
       "3       -2013.533565       -2016.302244     -2015.773930        1.656288   \n",
       "4       -1934.953939       -1949.583048     -1950.477330       13.055379   \n",
       "5       -1959.172080       -1966.068702     -1968.070670        8.206031   \n",
       "6       -2034.432765       -2047.177933     -2042.999987        6.058702   \n",
       "7       -2081.312533       -2087.059588     -2085.072167        2.659975   \n",
       "\n",
       "   rank_test_score  split0_train_score  split1_train_score  \\\n",
       "0                1        -1793.111184        -1832.727385   \n",
       "1                2        -1727.805193        -1763.998618   \n",
       "2                5        -1276.787587        -1293.015226   \n",
       "3                6        -1062.667879        -1060.950255   \n",
       "4                3        -1728.815051        -1761.732141   \n",
       "5                4        -1605.017025        -1635.188623   \n",
       "6                7        -1063.572646        -1070.687852   \n",
       "7                8         -732.813850         -725.721342   \n",
       "\n",
       "   split2_train_score  mean_train_score  std_train_score  \n",
       "0        -1797.115640      -1807.651403        17.806601  \n",
       "1        -1730.969217      -1740.924343        16.367028  \n",
       "2        -1238.277723      -1269.360179        22.955368  \n",
       "3        -1010.151801      -1044.589978        24.361562  \n",
       "4        -1729.908581      -1740.151924        15.266047  \n",
       "5        -1611.821480      -1617.342376        12.921340  \n",
       "6        -1023.308572      -1052.523023        20.860963  \n",
       "7         -678.909770       -712.481654        23.914842  "
      ]
     },
     "execution_count": 167,
     "metadata": {},
     "output_type": "execute_result"
    }
   ],
   "source": [
    "pd.DataFrame(grad_fit.cv_results_)"
   ]
  },
  {
   "cell_type": "code",
   "execution_count": 168,
   "metadata": {},
   "outputs": [
    {
     "data": {
      "text/plain": [
       "{'n_estimators': 50, 'max_depth': 5, 'learning_rate': 0.1}"
      ]
     },
     "execution_count": 168,
     "metadata": {},
     "output_type": "execute_result"
    }
   ],
   "source": [
    "best_param_grad"
   ]
  },
  {
   "cell_type": "code",
   "execution_count": 82,
   "metadata": {},
   "outputs": [],
   "source": [
    "gbr= GradientBoostingRegressor(n_estimators=50,max_depth=5,learning_rate=0.1)"
   ]
  },
  {
   "cell_type": "code",
   "execution_count": 111,
   "metadata": {},
   "outputs": [],
   "source": [
    "grad_result= gbr.fit(X_train_gbr,y_train_gbr)"
   ]
  },
  {
   "cell_type": "code",
   "execution_count": 112,
   "metadata": {},
   "outputs": [],
   "source": [
    "scores_boosting= cross_val_score(gbr,X_train_gbr,y_train_gbr,scoring='neg_mean_absolute_error',cv=5)"
   ]
  },
  {
   "cell_type": "code",
   "execution_count": 113,
   "metadata": {},
   "outputs": [],
   "source": [
    "absolute_scores_boosting= - scores_boosting.mean()"
   ]
  },
  {
   "cell_type": "code",
   "execution_count": 114,
   "metadata": {},
   "outputs": [],
   "source": [
    "y_pred_gbr=gbr.predict(X_test_gbr)\n",
    "test_score_gbr= mean_absolute_error(y_test_gbr,y_pred_gbr)"
   ]
  },
  {
   "cell_type": "code",
   "execution_count": 115,
   "metadata": {},
   "outputs": [
    {
     "data": {
      "text/html": [
       "<div>\n",
       "<style scoped>\n",
       "    .dataframe tbody tr th:only-of-type {\n",
       "        vertical-align: middle;\n",
       "    }\n",
       "\n",
       "    .dataframe tbody tr th {\n",
       "        vertical-align: top;\n",
       "    }\n",
       "\n",
       "    .dataframe thead th {\n",
       "        text-align: right;\n",
       "    }\n",
       "</style>\n",
       "<table border=\"1\" class=\"dataframe\">\n",
       "  <thead>\n",
       "    <tr style=\"text-align: right;\">\n",
       "      <th></th>\n",
       "      <th>train_mae_score</th>\n",
       "      <th>test_mae_score</th>\n",
       "    </tr>\n",
       "  </thead>\n",
       "  <tbody>\n",
       "    <tr>\n",
       "      <th>Mean</th>\n",
       "      <td>1949.674737</td>\n",
       "      <td>1914.170178</td>\n",
       "    </tr>\n",
       "  </tbody>\n",
       "</table>\n",
       "</div>"
      ],
      "text/plain": [
       "      train_mae_score  test_mae_score\n",
       "Mean      1949.674737     1914.170178"
      ]
     },
     "execution_count": 115,
     "metadata": {},
     "output_type": "execute_result"
    }
   ],
   "source": [
    "pd.DataFrame({'train_mae_score':[absolute_scores_boosting],\n",
    "             'test_mae_score':[test_score_gbr]},index=['Mean'])"
   ]
  },
  {
   "cell_type": "code",
   "execution_count": 88,
   "metadata": {},
   "outputs": [],
   "source": [
    "train_sizes,train_scores_gbr,validation_scores_gbr= learning_curve(gbr,X=X_train_pca,y=y_train_pca,train_sizes=train_sizes,\n",
    "                                             cv=5,scoring='neg_mean_absolute_error')"
   ]
  },
  {
   "cell_type": "code",
   "execution_count": 89,
   "metadata": {},
   "outputs": [],
   "source": [
    "train_scores_mean_gbr= -train_scores_gbr.mean(axis=1)\n",
    "validation_scores_mean_gbr=-validation_scores_gbr.mean(axis=1)"
   ]
  },
  {
   "cell_type": "code",
   "execution_count": 90,
   "metadata": {},
   "outputs": [
    {
     "data": {
      "text/plain": [
       "<matplotlib.legend.Legend at 0x2323cad4d30>"
      ]
     },
     "execution_count": 90,
     "metadata": {},
     "output_type": "execute_result"
    },
    {
     "data": {
      "image/png": "[encoded data removed]",
      "text/plain": [
       "<Figure size 432x288 with 1 Axes>"
      ]
     },
     "metadata": {
      "needs_background": "light"
     },
     "output_type": "display_data"
    }
   ],
   "source": [
    "plt.plot(train_sizes, train_scores_mean_gbr, label = 'Training error PCA')\n",
    "plt.plot(train_sizes, validation_scores_mean_gbr, label = 'Validation error PCA')\n",
    "plt.ylabel('MAE', fontsize = 14)\n",
    "plt.xlabel('Training set size', fontsize = 14)\n",
    "plt.title('Learning curves for a gradient boosting regression model', fontsize = 18, y = 1.03)\n",
    "plt.legend()"
   ]
  },
  {
   "cell_type": "markdown",
   "metadata": {},
   "source": [
    "#### This model has much is better than above two in bias and variance."
   ]
  },
  {
   "cell_type": "markdown",
   "metadata": {},
   "source": [
    "### 2(b). Gradient Boosting with feature selection"
   ]
  },
  {
   "cell_type": "code",
   "execution_count": 91,
   "metadata": {},
   "outputs": [],
   "source": [
    "gbr_original=gbr.fit(X_train,y_train)"
   ]
  },
  {
   "cell_type": "code",
   "execution_count": 92,
   "metadata": {},
   "outputs": [],
   "source": [
    "df_1=pd.DataFrame(X_train.columns,gbr_original.feature_importances_).reset_index()\n",
    "df_1.columns=['score','variables']\n",
    "select_columns=df_1.sort_values('score',ascending=False)['variables']"
   ]
  },
  {
   "cell_type": "code",
   "execution_count": 93,
   "metadata": {},
   "outputs": [],
   "source": [
    "feature_importance_df= pd.concat(objs=[df,df_1],axis=1)"
   ]
  },
  {
   "cell_type": "code",
   "execution_count": 94,
   "metadata": {},
   "outputs": [],
   "source": [
    "feature_importance_df.columns=['Variables_rf','Score_rf','score_gb','Variables_gb']\n",
    "feature_importance_df=feature_importance_df.sort_values('Score_rf',ascending=False).reset_index(drop=True)"
   ]
  },
  {
   "cell_type": "code",
   "execution_count": 95,
   "metadata": {},
   "outputs": [
    {
     "data": {
      "text/plain": [
       "0.824101638879305"
      ]
     },
     "execution_count": 95,
     "metadata": {},
     "output_type": "execute_result"
    }
   ],
   "source": [
    "np.sum(feature_importance_df['score_gb'][0:25])"
   ]
  },
  {
   "cell_type": "code",
   "execution_count": 96,
   "metadata": {},
   "outputs": [],
   "source": [
    "select_columns=df_1.sort_values('score',ascending=False)['variables'][0:25]"
   ]
  },
  {
   "cell_type": "code",
   "execution_count": 147,
   "metadata": {},
   "outputs": [],
   "source": [
    "X_train_select,X_test_select,y_train_select,y_test_select=train_test_split(data[select_columns.reset_index()['variables']],\n",
    "                                                                           y,test_size=0.2,random_state=23)"
   ]
  },
  {
   "cell_type": "code",
   "execution_count": 310,
   "metadata": {},
   "outputs": [
    {
     "name": "stderr",
     "output_type": "stream",
     "text": [
      "C:\\Users\\ACER M5\\Anaconda3\\lib\\site-packages\\sklearn\\model_selection\\_search.py:271: UserWarning: The total space of parameters 8 is smaller than n_iter=10. Running 8 iterations. For exhaustive searches, use GridSearchCV.\n",
      "  % (grid_size, self.n_iter, grid_size), UserWarning)\n",
      "[Parallel(n_jobs=-1)]: Using backend LokyBackend with 4 concurrent workers.\n"
     ]
    },
    {
     "name": "stdout",
     "output_type": "stream",
     "text": [
      "Fitting 3 folds for each of 8 candidates, totalling 24 fits\n"
     ]
    },
    {
     "name": "stderr",
     "output_type": "stream",
     "text": [
      "[Parallel(n_jobs=-1)]: Done  24 out of  24 | elapsed:  6.9min finished\n"
     ]
    }
   ],
   "source": [
    "grad_randomsearch_select= RandomizedSearchCV(GradientBoostingRegressor(),param_distributions=param_gradboost,cv=3,\n",
    "                                      scoring='neg_mean_absolute_error',n_jobs=-1,verbose=1)\n",
    "grad_fit_select=grad_randomsearch_select.fit(X_train_select,y_train_select)\n",
    "best_param_grad_select= grad_fit_select.best_params_"
   ]
  },
  {
   "cell_type": "code",
   "execution_count": 311,
   "metadata": {},
   "outputs": [
    {
     "name": "stderr",
     "output_type": "stream",
     "text": [
      "C:\\Users\\ACER M5\\Anaconda3\\lib\\site-packages\\sklearn\\utils\\deprecation.py:125: FutureWarning: You are accessing a training score ('split0_train_score'), which will not be available by default any more in 0.21. If you need training scores, please set return_train_score=True\n",
      "  warnings.warn(*warn_args, **warn_kwargs)\n",
      "C:\\Users\\ACER M5\\Anaconda3\\lib\\site-packages\\sklearn\\utils\\deprecation.py:125: FutureWarning: You are accessing a training score ('split1_train_score'), which will not be available by default any more in 0.21. If you need training scores, please set return_train_score=True\n",
      "  warnings.warn(*warn_args, **warn_kwargs)\n",
      "C:\\Users\\ACER M5\\Anaconda3\\lib\\site-packages\\sklearn\\utils\\deprecation.py:125: FutureWarning: You are accessing a training score ('split2_train_score'), which will not be available by default any more in 0.21. If you need training scores, please set return_train_score=True\n",
      "  warnings.warn(*warn_args, **warn_kwargs)\n",
      "C:\\Users\\ACER M5\\Anaconda3\\lib\\site-packages\\sklearn\\utils\\deprecation.py:125: FutureWarning: You are accessing a training score ('mean_train_score'), which will not be available by default any more in 0.21. If you need training scores, please set return_train_score=True\n",
      "  warnings.warn(*warn_args, **warn_kwargs)\n",
      "C:\\Users\\ACER M5\\Anaconda3\\lib\\site-packages\\sklearn\\utils\\deprecation.py:125: FutureWarning: You are accessing a training score ('std_train_score'), which will not be available by default any more in 0.21. If you need training scores, please set return_train_score=True\n",
      "  warnings.warn(*warn_args, **warn_kwargs)\n"
     ]
    },
    {
     "data": {
      "text/html": [
       "<div>\n",
       "<style scoped>\n",
       "    .dataframe tbody tr th:only-of-type {\n",
       "        vertical-align: middle;\n",
       "    }\n",
       "\n",
       "    .dataframe tbody tr th {\n",
       "        vertical-align: top;\n",
       "    }\n",
       "\n",
       "    .dataframe thead th {\n",
       "        text-align: right;\n",
       "    }\n",
       "</style>\n",
       "<table border=\"1\" class=\"dataframe\">\n",
       "  <thead>\n",
       "    <tr style=\"text-align: right;\">\n",
       "      <th></th>\n",
       "      <th>mean_fit_time</th>\n",
       "      <th>std_fit_time</th>\n",
       "      <th>mean_score_time</th>\n",
       "      <th>std_score_time</th>\n",
       "      <th>param_n_estimators</th>\n",
       "      <th>param_max_depth</th>\n",
       "      <th>param_learning_rate</th>\n",
       "      <th>params</th>\n",
       "      <th>split0_test_score</th>\n",
       "      <th>split1_test_score</th>\n",
       "      <th>split2_test_score</th>\n",
       "      <th>mean_test_score</th>\n",
       "      <th>std_test_score</th>\n",
       "      <th>rank_test_score</th>\n",
       "      <th>split0_train_score</th>\n",
       "      <th>split1_train_score</th>\n",
       "      <th>split2_train_score</th>\n",
       "      <th>mean_train_score</th>\n",
       "      <th>std_train_score</th>\n",
       "    </tr>\n",
       "  </thead>\n",
       "  <tbody>\n",
       "    <tr>\n",
       "      <th>0</th>\n",
       "      <td>19.047941</td>\n",
       "      <td>0.086689</td>\n",
       "      <td>0.054301</td>\n",
       "      <td>0.003397</td>\n",
       "      <td>100</td>\n",
       "      <td>5</td>\n",
       "      <td>0.1</td>\n",
       "      <td>{'n_estimators': 100, 'max_depth': 5, 'learnin...</td>\n",
       "      <td>-1934.203115</td>\n",
       "      <td>-1925.798973</td>\n",
       "      <td>-1904.532398</td>\n",
       "      <td>-1921.512037</td>\n",
       "      <td>12.486483</td>\n",
       "      <td>1</td>\n",
       "      <td>-1691.995499</td>\n",
       "      <td>-1696.511168</td>\n",
       "      <td>-1702.114876</td>\n",
       "      <td>-1696.873848</td>\n",
       "      <td>4.139170</td>\n",
       "    </tr>\n",
       "    <tr>\n",
       "      <th>1</th>\n",
       "      <td>28.274928</td>\n",
       "      <td>0.399178</td>\n",
       "      <td>0.076953</td>\n",
       "      <td>0.004897</td>\n",
       "      <td>150</td>\n",
       "      <td>5</td>\n",
       "      <td>0.1</td>\n",
       "      <td>{'n_estimators': 150, 'max_depth': 5, 'learnin...</td>\n",
       "      <td>-1938.622352</td>\n",
       "      <td>-1930.205699</td>\n",
       "      <td>-1907.501934</td>\n",
       "      <td>-1925.443901</td>\n",
       "      <td>13.143391</td>\n",
       "      <td>2</td>\n",
       "      <td>-1619.766000</td>\n",
       "      <td>-1623.209572</td>\n",
       "      <td>-1632.946122</td>\n",
       "      <td>-1625.307232</td>\n",
       "      <td>5.581460</td>\n",
       "    </tr>\n",
       "    <tr>\n",
       "      <th>2</th>\n",
       "      <td>80.606382</td>\n",
       "      <td>2.485719</td>\n",
       "      <td>0.136917</td>\n",
       "      <td>0.002941</td>\n",
       "      <td>100</td>\n",
       "      <td>10</td>\n",
       "      <td>0.1</td>\n",
       "      <td>{'n_estimators': 100, 'max_depth': 10, 'learni...</td>\n",
       "      <td>-2004.740914</td>\n",
       "      <td>-1990.849785</td>\n",
       "      <td>-1984.489870</td>\n",
       "      <td>-1993.360473</td>\n",
       "      <td>8.455864</td>\n",
       "      <td>5</td>\n",
       "      <td>-888.803935</td>\n",
       "      <td>-913.026622</td>\n",
       "      <td>-853.282537</td>\n",
       "      <td>-885.037698</td>\n",
       "      <td>24.535380</td>\n",
       "    </tr>\n",
       "    <tr>\n",
       "      <th>3</th>\n",
       "      <td>117.362422</td>\n",
       "      <td>2.047286</td>\n",
       "      <td>0.195548</td>\n",
       "      <td>0.011079</td>\n",
       "      <td>150</td>\n",
       "      <td>10</td>\n",
       "      <td>0.1</td>\n",
       "      <td>{'n_estimators': 150, 'max_depth': 10, 'learni...</td>\n",
       "      <td>-2021.486470</td>\n",
       "      <td>-2016.767058</td>\n",
       "      <td>-1999.378927</td>\n",
       "      <td>-2012.544572</td>\n",
       "      <td>9.506370</td>\n",
       "      <td>6</td>\n",
       "      <td>-700.818663</td>\n",
       "      <td>-697.756573</td>\n",
       "      <td>-656.177637</td>\n",
       "      <td>-684.917624</td>\n",
       "      <td>20.360653</td>\n",
       "    </tr>\n",
       "    <tr>\n",
       "      <th>4</th>\n",
       "      <td>18.990977</td>\n",
       "      <td>0.034430</td>\n",
       "      <td>0.053967</td>\n",
       "      <td>0.002827</td>\n",
       "      <td>100</td>\n",
       "      <td>5</td>\n",
       "      <td>0.2</td>\n",
       "      <td>{'n_estimators': 100, 'max_depth': 5, 'learnin...</td>\n",
       "      <td>-1967.161118</td>\n",
       "      <td>-1955.945896</td>\n",
       "      <td>-1934.954307</td>\n",
       "      <td>-1952.687673</td>\n",
       "      <td>13.348606</td>\n",
       "      <td>3</td>\n",
       "      <td>-1558.380162</td>\n",
       "      <td>-1565.879139</td>\n",
       "      <td>-1557.367385</td>\n",
       "      <td>-1560.542229</td>\n",
       "      <td>3.796348</td>\n",
       "    </tr>\n",
       "    <tr>\n",
       "      <th>5</th>\n",
       "      <td>28.574410</td>\n",
       "      <td>0.108986</td>\n",
       "      <td>0.078951</td>\n",
       "      <td>0.004896</td>\n",
       "      <td>150</td>\n",
       "      <td>5</td>\n",
       "      <td>0.2</td>\n",
       "      <td>{'n_estimators': 150, 'max_depth': 5, 'learnin...</td>\n",
       "      <td>-1979.542546</td>\n",
       "      <td>-1978.259107</td>\n",
       "      <td>-1960.651357</td>\n",
       "      <td>-1972.818058</td>\n",
       "      <td>8.618687</td>\n",
       "      <td>4</td>\n",
       "      <td>-1444.921883</td>\n",
       "      <td>-1448.528847</td>\n",
       "      <td>-1438.662620</td>\n",
       "      <td>-1444.037783</td>\n",
       "      <td>4.076096</td>\n",
       "    </tr>\n",
       "    <tr>\n",
       "      <th>6</th>\n",
       "      <td>80.812622</td>\n",
       "      <td>1.034967</td>\n",
       "      <td>0.129589</td>\n",
       "      <td>0.003298</td>\n",
       "      <td>100</td>\n",
       "      <td>10</td>\n",
       "      <td>0.2</td>\n",
       "      <td>{'n_estimators': 100, 'max_depth': 10, 'learni...</td>\n",
       "      <td>-2107.325701</td>\n",
       "      <td>-2087.988263</td>\n",
       "      <td>-2062.444733</td>\n",
       "      <td>-2085.920315</td>\n",
       "      <td>18.380692</td>\n",
       "      <td>7</td>\n",
       "      <td>-530.541414</td>\n",
       "      <td>-528.625799</td>\n",
       "      <td>-530.401616</td>\n",
       "      <td>-529.856276</td>\n",
       "      <td>0.871949</td>\n",
       "    </tr>\n",
       "    <tr>\n",
       "      <th>7</th>\n",
       "      <td>114.991559</td>\n",
       "      <td>6.747599</td>\n",
       "      <td>0.205541</td>\n",
       "      <td>0.068827</td>\n",
       "      <td>150</td>\n",
       "      <td>10</td>\n",
       "      <td>0.2</td>\n",
       "      <td>{'n_estimators': 150, 'max_depth': 10, 'learni...</td>\n",
       "      <td>-2110.394336</td>\n",
       "      <td>-2107.427815</td>\n",
       "      <td>-2091.859446</td>\n",
       "      <td>-2103.227562</td>\n",
       "      <td>8.128813</td>\n",
       "      <td>8</td>\n",
       "      <td>-355.942516</td>\n",
       "      <td>-335.692288</td>\n",
       "      <td>-341.041955</td>\n",
       "      <td>-344.225586</td>\n",
       "      <td>8.568141</td>\n",
       "    </tr>\n",
       "  </tbody>\n",
       "</table>\n",
       "</div>"
      ],
      "text/plain": [
       "   mean_fit_time  std_fit_time  mean_score_time  std_score_time  \\\n",
       "0      19.047941      0.086689         0.054301        0.003397   \n",
       "1      28.274928      0.399178         0.076953        0.004897   \n",
       "2      80.606382      2.485719         0.136917        0.002941   \n",
       "3     117.362422      2.047286         0.195548        0.011079   \n",
       "4      18.990977      0.034430         0.053967        0.002827   \n",
       "5      28.574410      0.108986         0.078951        0.004896   \n",
       "6      80.812622      1.034967         0.129589        0.003298   \n",
       "7     114.991559      6.747599         0.205541        0.068827   \n",
       "\n",
       "  param_n_estimators param_max_depth param_learning_rate  \\\n",
       "0                100               5                 0.1   \n",
       "1                150               5                 0.1   \n",
       "2                100              10                 0.1   \n",
       "3                150              10                 0.1   \n",
       "4                100               5                 0.2   \n",
       "5                150               5                 0.2   \n",
       "6                100              10                 0.2   \n",
       "7                150              10                 0.2   \n",
       "\n",
       "                                              params  split0_test_score  \\\n",
       "0  {'n_estimators': 100, 'max_depth': 5, 'learnin...       -1934.203115   \n",
       "1  {'n_estimators': 150, 'max_depth': 5, 'learnin...       -1938.622352   \n",
       "2  {'n_estimators': 100, 'max_depth': 10, 'learni...       -2004.740914   \n",
       "3  {'n_estimators': 150, 'max_depth': 10, 'learni...       -2021.486470   \n",
       "4  {'n_estimators': 100, 'max_depth': 5, 'learnin...       -1967.161118   \n",
       "5  {'n_estimators': 150, 'max_depth': 5, 'learnin...       -1979.542546   \n",
       "6  {'n_estimators': 100, 'max_depth': 10, 'learni...       -2107.325701   \n",
       "7  {'n_estimators': 150, 'max_depth': 10, 'learni...       -2110.394336   \n",
       "\n",
       "   split1_test_score  split2_test_score  mean_test_score  std_test_score  \\\n",
       "0       -1925.798973       -1904.532398     -1921.512037       12.486483   \n",
       "1       -1930.205699       -1907.501934     -1925.443901       13.143391   \n",
       "2       -1990.849785       -1984.489870     -1993.360473        8.455864   \n",
       "3       -2016.767058       -1999.378927     -2012.544572        9.506370   \n",
       "4       -1955.945896       -1934.954307     -1952.687673       13.348606   \n",
       "5       -1978.259107       -1960.651357     -1972.818058        8.618687   \n",
       "6       -2087.988263       -2062.444733     -2085.920315       18.380692   \n",
       "7       -2107.427815       -2091.859446     -2103.227562        8.128813   \n",
       "\n",
       "   rank_test_score  split0_train_score  split1_train_score  \\\n",
       "0                1        -1691.995499        -1696.511168   \n",
       "1                2        -1619.766000        -1623.209572   \n",
       "2                5         -888.803935         -913.026622   \n",
       "3                6         -700.818663         -697.756573   \n",
       "4                3        -1558.380162        -1565.879139   \n",
       "5                4        -1444.921883        -1448.528847   \n",
       "6                7         -530.541414         -528.625799   \n",
       "7                8         -355.942516         -335.692288   \n",
       "\n",
       "   split2_train_score  mean_train_score  std_train_score  \n",
       "0        -1702.114876      -1696.873848         4.139170  \n",
       "1        -1632.946122      -1625.307232         5.581460  \n",
       "2         -853.282537       -885.037698        24.535380  \n",
       "3         -656.177637       -684.917624        20.360653  \n",
       "4        -1557.367385      -1560.542229         3.796348  \n",
       "5        -1438.662620      -1444.037783         4.076096  \n",
       "6         -530.401616       -529.856276         0.871949  \n",
       "7         -341.041955       -344.225586         8.568141  "
      ]
     },
     "execution_count": 311,
     "metadata": {},
     "output_type": "execute_result"
    }
   ],
   "source": [
    "pd.DataFrame(grad_fit_select.cv_results_)"
   ]
  },
  {
   "cell_type": "code",
   "execution_count": 312,
   "metadata": {},
   "outputs": [
    {
     "data": {
      "text/plain": [
       "{'n_estimators': 100, 'max_depth': 5, 'learning_rate': 0.1}"
      ]
     },
     "execution_count": 312,
     "metadata": {},
     "output_type": "execute_result"
    }
   ],
   "source": [
    "best_param_grad_select"
   ]
  },
  {
   "cell_type": "code",
   "execution_count": 98,
   "metadata": {},
   "outputs": [],
   "source": [
    "gbr_select= GradientBoostingRegressor(n_estimators=100,max_depth=5,learning_rate=0.1)"
   ]
  },
  {
   "cell_type": "code",
   "execution_count": 99,
   "metadata": {},
   "outputs": [],
   "source": [
    "grad_result_select= gbr_select.fit(X_train_select,y_train_select)"
   ]
  },
  {
   "cell_type": "code",
   "execution_count": 100,
   "metadata": {},
   "outputs": [],
   "source": [
    "scores_boosting_select= cross_val_score(gbr_select,X_train_select,y_train_select,scoring='neg_mean_absolute_error',cv=5)"
   ]
  },
  {
   "cell_type": "code",
   "execution_count": 116,
   "metadata": {},
   "outputs": [],
   "source": [
    "absolute_scores_boosting_select= - scores_boosting_select.mean()"
   ]
  },
  {
   "cell_type": "code",
   "execution_count": 117,
   "metadata": {},
   "outputs": [],
   "source": [
    "y_pred_gbr_select=gbr_select.predict(X_test_select)\n",
    "test_score_gbr_select= mean_absolute_error(y_test_select,y_pred_gbr_select)"
   ]
  },
  {
   "cell_type": "code",
   "execution_count": 118,
   "metadata": {},
   "outputs": [
    {
     "data": {
      "text/html": [
       "<div>\n",
       "<style scoped>\n",
       "    .dataframe tbody tr th:only-of-type {\n",
       "        vertical-align: middle;\n",
       "    }\n",
       "\n",
       "    .dataframe tbody tr th {\n",
       "        vertical-align: top;\n",
       "    }\n",
       "\n",
       "    .dataframe thead th {\n",
       "        text-align: right;\n",
       "    }\n",
       "</style>\n",
       "<table border=\"1\" class=\"dataframe\">\n",
       "  <thead>\n",
       "    <tr style=\"text-align: right;\">\n",
       "      <th></th>\n",
       "      <th>train_mae_score</th>\n",
       "      <th>test_mae_score</th>\n",
       "    </tr>\n",
       "  </thead>\n",
       "  <tbody>\n",
       "    <tr>\n",
       "      <th>Mean</th>\n",
       "      <td>1904.625189</td>\n",
       "      <td>1928.210292</td>\n",
       "    </tr>\n",
       "  </tbody>\n",
       "</table>\n",
       "</div>"
      ],
      "text/plain": [
       "      train_mae_score  test_mae_score\n",
       "Mean      1904.625189     1928.210292"
      ]
     },
     "execution_count": 118,
     "metadata": {},
     "output_type": "execute_result"
    }
   ],
   "source": [
    "pd.DataFrame({'train_mae_score':[absolute_scores_boosting_select],\n",
    "             'test_mae_score':[test_score_gbr_select]},index=['Mean'])"
   ]
  },
  {
   "cell_type": "code",
   "execution_count": 104,
   "metadata": {},
   "outputs": [],
   "source": [
    "train_sizes,train_scores_select,validation_scores_select= learning_curve(gbr_select,X=X_train_select,\n",
    "                                                                         y=y_train_select,train_sizes=train_sizes,\n",
    "                                                                           cv=5,scoring='neg_mean_absolute_error')"
   ]
  },
  {
   "cell_type": "code",
   "execution_count": 105,
   "metadata": {},
   "outputs": [],
   "source": [
    "train_scores_mean_select= -train_scores_select.mean(axis=1)\n",
    "validation_scores_mean_select=-validation_scores_select.mean(axis=1)"
   ]
  },
  {
   "cell_type": "code",
   "execution_count": 106,
   "metadata": {},
   "outputs": [
    {
     "data": {
      "text/plain": [
       "<matplotlib.legend.Legend at 0x2324e0d6b38>"
      ]
     },
     "execution_count": 106,
     "metadata": {},
     "output_type": "execute_result"
    },
    {
     "data": {
      "image/png": "[encoded data removed]",
      "text/plain": [
       "<Figure size 432x288 with 1 Axes>"
      ]
     },
     "metadata": {
      "needs_background": "light"
     },
     "output_type": "display_data"
    }
   ],
   "source": [
    "plt.plot(train_sizes, train_scores_mean_select, label = 'Training error PCA')\n",
    "plt.plot(train_sizes, validation_scores_mean_select, label = 'Validation error PCA')\n",
    "plt.ylabel('MAE', fontsize = 14)\n",
    "plt.xlabel('Training set size', fontsize = 14)\n",
    "plt.title('Learning curves for a gradient boosting regression model', fontsize = 18, y = 1.03)\n",
    "plt.legend()"
   ]
  },
  {
   "cell_type": "markdown",
   "metadata": {},
   "source": [
    "### Comparison of all Scores and Models:"
   ]
  },
  {
   "cell_type": "code",
   "execution_count": 120,
   "metadata": {},
   "outputs": [],
   "source": [
    "Comparison_df= pd.DataFrame({'Training_Scores':[absolute_scores,absolute_scores_1,\n",
    "                                                absolute_scores_boosting,absolute_scores_boosting_select],\n",
    "                            'Test_Scores':[test_score,test_score_pca,test_score_gbr,test_score_gbr_select]},\n",
    "                            index=['Rf','Rf_PCA','gbr','gbr_select'])"
   ]
  },
  {
   "cell_type": "code",
   "execution_count": 124,
   "metadata": {},
   "outputs": [],
   "source": [
    "Comparison_df['Variance']=np.subtract(Comparison_df['Training_Scores'],Comparison_df['Test_Scores'])"
   ]
  },
  {
   "cell_type": "code",
   "execution_count": 126,
   "metadata": {},
   "outputs": [],
   "source": [
    "Comparison_df=Comparison_df.sort_values('Training_Scores')"
   ]
  },
  {
   "cell_type": "code",
   "execution_count": 127,
   "metadata": {},
   "outputs": [
    {
     "data": {
      "text/html": [
       "<div>\n",
       "<style scoped>\n",
       "    .dataframe tbody tr th:only-of-type {\n",
       "        vertical-align: middle;\n",
       "    }\n",
       "\n",
       "    .dataframe tbody tr th {\n",
       "        vertical-align: top;\n",
       "    }\n",
       "\n",
       "    .dataframe thead th {\n",
       "        text-align: right;\n",
       "    }\n",
       "</style>\n",
       "<table border=\"1\" class=\"dataframe\">\n",
       "  <thead>\n",
       "    <tr style=\"text-align: right;\">\n",
       "      <th></th>\n",
       "      <th>Training_Scores</th>\n",
       "      <th>Test_Scores</th>\n",
       "      <th>Variance</th>\n",
       "    </tr>\n",
       "  </thead>\n",
       "  <tbody>\n",
       "    <tr>\n",
       "      <th>gbr_select</th>\n",
       "      <td>1904.625189</td>\n",
       "      <td>1928.210292</td>\n",
       "      <td>-23.585103</td>\n",
       "    </tr>\n",
       "    <tr>\n",
       "      <th>Rf</th>\n",
       "      <td>1914.381553</td>\n",
       "      <td>1939.899119</td>\n",
       "      <td>-25.517567</td>\n",
       "    </tr>\n",
       "    <tr>\n",
       "      <th>gbr</th>\n",
       "      <td>1949.674737</td>\n",
       "      <td>1914.170178</td>\n",
       "      <td>35.504559</td>\n",
       "    </tr>\n",
       "    <tr>\n",
       "      <th>Rf_PCA</th>\n",
       "      <td>2037.953528</td>\n",
       "      <td>2076.847220</td>\n",
       "      <td>-38.893692</td>\n",
       "    </tr>\n",
       "  </tbody>\n",
       "</table>\n",
       "</div>"
      ],
      "text/plain": [
       "            Training_Scores  Test_Scores   Variance\n",
       "gbr_select      1904.625189  1928.210292 -23.585103\n",
       "Rf              1914.381553  1939.899119 -25.517567\n",
       "gbr             1949.674737  1914.170178  35.504559\n",
       "Rf_PCA          2037.953528  2076.847220 -38.893692"
      ]
     },
     "execution_count": 127,
     "metadata": {},
     "output_type": "execute_result"
    }
   ],
   "source": [
    "Comparison_df"
   ]
  },
  {
   "cell_type": "markdown",
   "metadata": {},
   "source": [
    "## 3. Stacking"
   ]
  },
  {
   "cell_type": "markdown",
   "metadata": {},
   "source": [
    "From above comaprison, we are going to create a new dataset through predictions of the four models."
   ]
  },
  {
   "cell_type": "code",
   "execution_count": 157,
   "metadata": {},
   "outputs": [
    {
     "data": {
      "text/html": [
       "<div>\n",
       "<style scoped>\n",
       "    .dataframe tbody tr th:only-of-type {\n",
       "        vertical-align: middle;\n",
       "    }\n",
       "\n",
       "    .dataframe tbody tr th {\n",
       "        vertical-align: top;\n",
       "    }\n",
       "\n",
       "    .dataframe thead th {\n",
       "        text-align: right;\n",
       "    }\n",
       "</style>\n",
       "<table border=\"1\" class=\"dataframe\">\n",
       "  <thead>\n",
       "    <tr style=\"text-align: right;\">\n",
       "      <th></th>\n",
       "      <th>url</th>\n",
       "      <th>timedelta</th>\n",
       "      <th>n_tokens_title</th>\n",
       "      <th>n_tokens_content</th>\n",
       "      <th>n_unique_tokens</th>\n",
       "      <th>n_non_stop_words</th>\n",
       "      <th>n_non_stop_unique_tokens</th>\n",
       "      <th>num_hrefs</th>\n",
       "      <th>num_self_hrefs</th>\n",
       "      <th>num_imgs</th>\n",
       "      <th>...</th>\n",
       "      <th>max_positive_polarity</th>\n",
       "      <th>avg_negative_polarity</th>\n",
       "      <th>min_negative_polarity</th>\n",
       "      <th>max_negative_polarity</th>\n",
       "      <th>title_subjectivity</th>\n",
       "      <th>title_sentiment_polarity</th>\n",
       "      <th>abs_title_subjectivity</th>\n",
       "      <th>abs_title_sentiment_polarity</th>\n",
       "      <th>shares</th>\n",
       "      <th>date</th>\n",
       "    </tr>\n",
       "  </thead>\n",
       "  <tbody>\n",
       "    <tr>\n",
       "      <th>0</th>\n",
       "      <td>http://mashable.com/2013/01/07/amazon-instant-...</td>\n",
       "      <td>731.0</td>\n",
       "      <td>12.0</td>\n",
       "      <td>219.0</td>\n",
       "      <td>0.663594</td>\n",
       "      <td>1.0</td>\n",
       "      <td>0.815385</td>\n",
       "      <td>4.0</td>\n",
       "      <td>2.0</td>\n",
       "      <td>1.0</td>\n",
       "      <td>...</td>\n",
       "      <td>0.7</td>\n",
       "      <td>-0.350000</td>\n",
       "      <td>-0.600</td>\n",
       "      <td>-0.200000</td>\n",
       "      <td>0.500000</td>\n",
       "      <td>-0.187500</td>\n",
       "      <td>0.000000</td>\n",
       "      <td>0.187500</td>\n",
       "      <td>593</td>\n",
       "      <td>2013-01-07</td>\n",
       "    </tr>\n",
       "    <tr>\n",
       "      <th>1</th>\n",
       "      <td>http://mashable.com/2013/01/07/ap-samsung-spon...</td>\n",
       "      <td>731.0</td>\n",
       "      <td>9.0</td>\n",
       "      <td>255.0</td>\n",
       "      <td>0.604743</td>\n",
       "      <td>1.0</td>\n",
       "      <td>0.791946</td>\n",
       "      <td>3.0</td>\n",
       "      <td>1.0</td>\n",
       "      <td>1.0</td>\n",
       "      <td>...</td>\n",
       "      <td>0.7</td>\n",
       "      <td>-0.118750</td>\n",
       "      <td>-0.125</td>\n",
       "      <td>-0.100000</td>\n",
       "      <td>0.000000</td>\n",
       "      <td>0.000000</td>\n",
       "      <td>0.500000</td>\n",
       "      <td>0.000000</td>\n",
       "      <td>711</td>\n",
       "      <td>2013-01-07</td>\n",
       "    </tr>\n",
       "    <tr>\n",
       "      <th>2</th>\n",
       "      <td>http://mashable.com/2013/01/07/apple-40-billio...</td>\n",
       "      <td>731.0</td>\n",
       "      <td>9.0</td>\n",
       "      <td>211.0</td>\n",
       "      <td>0.575130</td>\n",
       "      <td>1.0</td>\n",
       "      <td>0.663866</td>\n",
       "      <td>3.0</td>\n",
       "      <td>1.0</td>\n",
       "      <td>1.0</td>\n",
       "      <td>...</td>\n",
       "      <td>1.0</td>\n",
       "      <td>-0.466667</td>\n",
       "      <td>-0.800</td>\n",
       "      <td>-0.133333</td>\n",
       "      <td>0.000000</td>\n",
       "      <td>0.000000</td>\n",
       "      <td>0.500000</td>\n",
       "      <td>0.000000</td>\n",
       "      <td>1500</td>\n",
       "      <td>2013-01-07</td>\n",
       "    </tr>\n",
       "    <tr>\n",
       "      <th>3</th>\n",
       "      <td>http://mashable.com/2013/01/07/astronaut-notre...</td>\n",
       "      <td>731.0</td>\n",
       "      <td>9.0</td>\n",
       "      <td>531.0</td>\n",
       "      <td>0.503788</td>\n",
       "      <td>1.0</td>\n",
       "      <td>0.665635</td>\n",
       "      <td>9.0</td>\n",
       "      <td>0.0</td>\n",
       "      <td>1.0</td>\n",
       "      <td>...</td>\n",
       "      <td>0.8</td>\n",
       "      <td>-0.369697</td>\n",
       "      <td>-0.600</td>\n",
       "      <td>-0.166667</td>\n",
       "      <td>0.000000</td>\n",
       "      <td>0.000000</td>\n",
       "      <td>0.500000</td>\n",
       "      <td>0.000000</td>\n",
       "      <td>1200</td>\n",
       "      <td>2013-01-07</td>\n",
       "    </tr>\n",
       "    <tr>\n",
       "      <th>4</th>\n",
       "      <td>http://mashable.com/2013/01/07/att-u-verse-apps/</td>\n",
       "      <td>731.0</td>\n",
       "      <td>13.0</td>\n",
       "      <td>1072.0</td>\n",
       "      <td>0.415646</td>\n",
       "      <td>1.0</td>\n",
       "      <td>0.540890</td>\n",
       "      <td>19.0</td>\n",
       "      <td>19.0</td>\n",
       "      <td>20.0</td>\n",
       "      <td>...</td>\n",
       "      <td>1.0</td>\n",
       "      <td>-0.220192</td>\n",
       "      <td>-0.500</td>\n",
       "      <td>-0.050000</td>\n",
       "      <td>0.454545</td>\n",
       "      <td>0.136364</td>\n",
       "      <td>0.045455</td>\n",
       "      <td>0.136364</td>\n",
       "      <td>505</td>\n",
       "      <td>2013-01-07</td>\n",
       "    </tr>\n",
       "  </tbody>\n",
       "</table>\n",
       "<p>5 rows × 62 columns</p>\n",
       "</div>"
      ],
      "text/plain": [
       "                                                 url   timedelta  \\\n",
       "0  http://mashable.com/2013/01/07/amazon-instant-...       731.0   \n",
       "1  http://mashable.com/2013/01/07/ap-samsung-spon...       731.0   \n",
       "2  http://mashable.com/2013/01/07/apple-40-billio...       731.0   \n",
       "3  http://mashable.com/2013/01/07/astronaut-notre...       731.0   \n",
       "4   http://mashable.com/2013/01/07/att-u-verse-apps/       731.0   \n",
       "\n",
       "    n_tokens_title   n_tokens_content   n_unique_tokens   n_non_stop_words  \\\n",
       "0             12.0              219.0          0.663594                1.0   \n",
       "1              9.0              255.0          0.604743                1.0   \n",
       "2              9.0              211.0          0.575130                1.0   \n",
       "3              9.0              531.0          0.503788                1.0   \n",
       "4             13.0             1072.0          0.415646                1.0   \n",
       "\n",
       "    n_non_stop_unique_tokens   num_hrefs   num_self_hrefs   num_imgs  ...  \\\n",
       "0                   0.815385         4.0              2.0        1.0  ...   \n",
       "1                   0.791946         3.0              1.0        1.0  ...   \n",
       "2                   0.663866         3.0              1.0        1.0  ...   \n",
       "3                   0.665635         9.0              0.0        1.0  ...   \n",
       "4                   0.540890        19.0             19.0       20.0  ...   \n",
       "\n",
       "    max_positive_polarity   avg_negative_polarity   min_negative_polarity  \\\n",
       "0                     0.7               -0.350000                  -0.600   \n",
       "1                     0.7               -0.118750                  -0.125   \n",
       "2                     1.0               -0.466667                  -0.800   \n",
       "3                     0.8               -0.369697                  -0.600   \n",
       "4                     1.0               -0.220192                  -0.500   \n",
       "\n",
       "    max_negative_polarity   title_subjectivity   title_sentiment_polarity  \\\n",
       "0               -0.200000             0.500000                  -0.187500   \n",
       "1               -0.100000             0.000000                   0.000000   \n",
       "2               -0.133333             0.000000                   0.000000   \n",
       "3               -0.166667             0.000000                   0.000000   \n",
       "4               -0.050000             0.454545                   0.136364   \n",
       "\n",
       "    abs_title_subjectivity   abs_title_sentiment_polarity   shares       date  \n",
       "0                 0.000000                       0.187500      593 2013-01-07  \n",
       "1                 0.500000                       0.000000      711 2013-01-07  \n",
       "2                 0.500000                       0.000000     1500 2013-01-07  \n",
       "3                 0.500000                       0.000000     1200 2013-01-07  \n",
       "4                 0.045455                       0.136364      505 2013-01-07  \n",
       "\n",
       "[5 rows x 62 columns]"
      ]
     },
     "execution_count": 157,
     "metadata": {},
     "output_type": "execute_result"
    }
   ],
   "source": [
    "data.head()"
   ]
  },
  {
   "cell_type": "code",
   "execution_count": null,
   "metadata": {},
   "outputs": [],
   "source": []
  },
  {
   "cell_type": "code",
   "execution_count": 158,
   "metadata": {},
   "outputs": [],
   "source": [
    "X1= rf.predict(pca_data)\n",
    "X2=rf_pca.predict(pca_final_data)\n",
    "X3=gbr.predict(pca_data_gbr)\n",
    "X4=gbr_select.predict(data[select_columns.reset_index()['variables']])"
   ]
  },
  {
   "cell_type": "markdown",
   "metadata": {},
   "source": [
    "### __To Train the final model on large datasets we had to use whole datasets for prediction here___"
   ]
  },
  {
   "cell_type": "code",
   "execution_count": 159,
   "metadata": {},
   "outputs": [
    {
     "data": {
      "text/html": [
       "<div>\n",
       "<style scoped>\n",
       "    .dataframe tbody tr th:only-of-type {\n",
       "        vertical-align: middle;\n",
       "    }\n",
       "\n",
       "    .dataframe tbody tr th {\n",
       "        vertical-align: top;\n",
       "    }\n",
       "\n",
       "    .dataframe thead th {\n",
       "        text-align: right;\n",
       "    }\n",
       "</style>\n",
       "<table border=\"1\" class=\"dataframe\">\n",
       "  <thead>\n",
       "    <tr style=\"text-align: right;\">\n",
       "      <th></th>\n",
       "      <th>Random_Forest</th>\n",
       "      <th>Random_Forest_PCA</th>\n",
       "      <th>GBR</th>\n",
       "      <th>GBR_select</th>\n",
       "      <th>Target</th>\n",
       "    </tr>\n",
       "  </thead>\n",
       "  <tbody>\n",
       "    <tr>\n",
       "      <th>0</th>\n",
       "      <td>1778.073565</td>\n",
       "      <td>1931.565754</td>\n",
       "      <td>1516.769026</td>\n",
       "      <td>2162.767375</td>\n",
       "      <td>593</td>\n",
       "    </tr>\n",
       "    <tr>\n",
       "      <th>1</th>\n",
       "      <td>2045.045026</td>\n",
       "      <td>1557.159367</td>\n",
       "      <td>1513.929414</td>\n",
       "      <td>1896.893246</td>\n",
       "      <td>711</td>\n",
       "    </tr>\n",
       "    <tr>\n",
       "      <th>2</th>\n",
       "      <td>1867.140305</td>\n",
       "      <td>1715.601769</td>\n",
       "      <td>1508.811653</td>\n",
       "      <td>2016.660467</td>\n",
       "      <td>1500</td>\n",
       "    </tr>\n",
       "    <tr>\n",
       "      <th>3</th>\n",
       "      <td>1791.269581</td>\n",
       "      <td>2074.519611</td>\n",
       "      <td>1516.769026</td>\n",
       "      <td>1802.722422</td>\n",
       "      <td>1200</td>\n",
       "    </tr>\n",
       "    <tr>\n",
       "      <th>4</th>\n",
       "      <td>2000.718077</td>\n",
       "      <td>1366.082855</td>\n",
       "      <td>2132.215650</td>\n",
       "      <td>2507.499502</td>\n",
       "      <td>505</td>\n",
       "    </tr>\n",
       "  </tbody>\n",
       "</table>\n",
       "</div>"
      ],
      "text/plain": [
       "   Random_Forest  Random_Forest_PCA          GBR   GBR_select  Target\n",
       "0    1778.073565        1931.565754  1516.769026  2162.767375     593\n",
       "1    2045.045026        1557.159367  1513.929414  1896.893246     711\n",
       "2    1867.140305        1715.601769  1508.811653  2016.660467    1500\n",
       "3    1791.269581        2074.519611  1516.769026  1802.722422    1200\n",
       "4    2000.718077        1366.082855  2132.215650  2507.499502     505"
      ]
     },
     "execution_count": 159,
     "metadata": {},
     "output_type": "execute_result"
    }
   ],
   "source": [
    "data_stacking= pd.DataFrame({'Random_Forest':X1,\n",
    "                            'Random_Forest_PCA':X2,\n",
    "                            'GBR':X3,\n",
    "                            \"GBR_select\":X4,\n",
    "                            \"Target\":y})\n",
    "data_stacking.head()"
   ]
  },
  {
   "cell_type": "code",
   "execution_count": 195,
   "metadata": {},
   "outputs": [],
   "source": [
    "from sklearn.linear_model import LinearRegression"
   ]
  },
  {
   "cell_type": "code",
   "execution_count": 196,
   "metadata": {},
   "outputs": [],
   "source": [
    "X_train_stack,X_test_stack,y_train_stack,y_test_stack= train_test_split(\n",
    "    data_stacking[['Random_Forest','Random_Forest_PCA','GBR','GBR_select']],y,test_size=0.2)"
   ]
  },
  {
   "cell_type": "code",
   "execution_count": 197,
   "metadata": {},
   "outputs": [
    {
     "data": {
      "text/plain": [
       "LinearRegression(copy_X=True, fit_intercept=True, n_jobs=None,\n",
       "         normalize=False)"
      ]
     },
     "execution_count": 197,
     "metadata": {},
     "output_type": "execute_result"
    }
   ],
   "source": [
    "lr=LinearRegression()\n",
    "lr.fit(X_train_stack,y_train_stack)"
   ]
  },
  {
   "cell_type": "code",
   "execution_count": 213,
   "metadata": {},
   "outputs": [],
   "source": [
    "training_score_lr= cross_val_score(lr,X_train_stack,y_train_stack,scoring='neg_mean_absolute_error',cv=20)\n",
    "absolute_training_lr= -training_score_lr.mean()"
   ]
  },
  {
   "cell_type": "code",
   "execution_count": 214,
   "metadata": {},
   "outputs": [],
   "source": [
    "y_predict_lr= lr.predict(X_test_stack)\n",
    "test_score_lr= mean_absolute_error(y_test_stack,y_predict_lr)"
   ]
  },
  {
   "cell_type": "code",
   "execution_count": 218,
   "metadata": {},
   "outputs": [],
   "source": [
    "train_sizes,train_scores_lr,validation_scores_lr= learning_curve(lr,X=X_train_stack,\n",
    "                                                                         y=y_train_stack,train_sizes=train_sizes,\n",
    "                                                                           cv=10,scoring='neg_mean_absolute_error')"
   ]
  },
  {
   "cell_type": "code",
   "execution_count": 219,
   "metadata": {},
   "outputs": [],
   "source": [
    "train_scores_mean_lr= -train_scores_lr.mean(axis=1)\n",
    "validation_scores_mean_lr=-validation_scores_lr.mean(axis=1)"
   ]
  },
  {
   "cell_type": "code",
   "execution_count": 220,
   "metadata": {},
   "outputs": [
    {
     "data": {
      "text/plain": [
       "<matplotlib.legend.Legend at 0x23258e818d0>"
      ]
     },
     "execution_count": 220,
     "metadata": {},
     "output_type": "execute_result"
    },
    {
     "data": {
      "image/png": "[encoded data removed]",
      "text/plain": [
       "<Figure size 432x288 with 1 Axes>"
      ]
     },
     "metadata": {
      "needs_background": "light"
     },
     "output_type": "display_data"
    }
   ],
   "source": [
    "plt.plot(train_sizes, train_scores_mean_lr, label = 'Training error PCA')\n",
    "plt.plot(train_sizes, validation_scores_mean_lr, label = 'Validation error PCA')\n",
    "plt.ylabel('MAE', fontsize = 14)\n",
    "plt.xlabel('Training set size', fontsize = 14)\n",
    "plt.title('Learning curves for a linear regression model', fontsize = 18, y = 1.03)\n",
    "plt.legend()"
   ]
  },
  {
   "cell_type": "code",
   "execution_count": null,
   "metadata": {},
   "outputs": [],
   "source": []
  }
 ],
 "metadata": {
  "kernelspec": {
   "display_name": "Python 3",
   "language": "python",
   "name": "python3"
  },
  "language_info": {
   "codemirror_mode": {
    "name": "ipython",
    "version": 3
   },
   "file_extension": ".py",
   "mimetype": "text/x-python",
   "name": "python",
   "nbconvert_exporter": "python",
   "pygments_lexer": "ipython3",
   "version": "3.7.3"
  }
 },
 "nbformat": 4,
 "nbformat_minor": 2
}
